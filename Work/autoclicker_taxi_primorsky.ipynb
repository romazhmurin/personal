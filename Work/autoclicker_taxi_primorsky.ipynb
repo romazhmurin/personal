{
  "cells": [
    {
      "cell_type": "code",
      "execution_count": null,
      "metadata": {
        "id": "EgSDr1Tc0RND"
      },
      "outputs": [],
      "source": [
        "import win32api, win32con, win32gui\n",
        "import win32com.client\n",
        "import numpy as np\n",
        "import time\n",
        "import pandas as pd\n",
        "import re\n",
        "import webbrowser\n",
        "from tkinter import Tk"
      ]
    },
    {
      "cell_type": "code",
      "execution_count": null,
      "metadata": {
        "id": "NpstAeX10RNE"
      },
      "outputs": [],
      "source": [
        "#функция левого клика в определенном месте\n",
        "def l_click(x,y):\n",
        "    # выставляем позицию\n",
        "    win32api.SetCursorPos((x,y))\n",
        "    time.sleep(0.2)\n",
        "    # а потом кликаем (небольшая задержка для большей человечности)\n",
        "    win32api.mouse_event(win32con.MOUSEEVENTF_LEFTDOWN,x,y,0,0)\n",
        "    time.sleep(0.3)\n",
        "    win32api.mouse_event(win32con.MOUSEEVENTF_LEFTUP,x,y,0,0)"
      ]
    },
    {
      "cell_type": "code",
      "execution_count": null,
      "metadata": {
        "id": "HTZeX0Yb0RNF"
      },
      "outputs": [],
      "source": [
        "#функция левого клика в определенном месте\n",
        "def r_click(x,y):\n",
        "    # выставляем позицию\n",
        "    win32api.SetCursorPos((x,y))\n",
        "    time.sleep(0.2)\n",
        "    # а потом кликаем (небольшая задержка для большей человечности)\n",
        "    win32api.mouse_event(win32con.MOUSEEVENTF_RIGHTDOWN,x,y,0,0)\n",
        "    time.sleep(0.3)\n",
        "    win32api.mouse_event(win32con.MOUSEEVENTF_RIGHTUP,x,y,0,0)"
      ]
    },
    {
      "cell_type": "code",
      "execution_count": null,
      "metadata": {
        "id": "1DLSZ6gW0RNF"
      },
      "outputs": [],
      "source": [
        "def randfloat(a = 1, b = 3):\n",
        "    return (b - a) * np.random.random_sample() + a"
      ]
    },
    {
      "cell_type": "code",
      "execution_count": null,
      "metadata": {
        "id": "ityCFiUy0RNG"
      },
      "outputs": [],
      "source": [
        "def oneCarSearch(wr):\n",
        "    shell = win32com.client.Dispatch(\"WScript.Shell\")\n",
        "\n",
        "    pos_choice_X_1 = 800\n",
        "    pos_choice_Y_1 = 420\n",
        "    l_click(pos_choice_X_1,pos_choice_Y_1) #Клик строка поиска\n",
        "    shell.SendKeys(\"^a\")\n",
        "    time.sleep(0.3)\n",
        "    shell.SendKeys(\"{DELETE}\")\n",
        "\n",
        "    time.sleep(randfloat(a = 1, b = 1.5))\n",
        "    shell.SendKeys(\"^v\") #Вставить в строку\n",
        "\n",
        "    time.sleep(randfloat(a = 0.5, b = 1.5))\n",
        "    pos_choice_X_1 = 1260\n",
        "    pos_choice_Y_1 = 420\n",
        "    l_click(pos_choice_X_1,pos_choice_Y_1)#Нажать Поиск\n",
        "    #time.sleep(randfloat(a = 0, b = 0.5))\n",
        "    #shell.SendKeys(\"{F12}\")\n",
        "    #time.sleep(randfloat(a = 0, b = 0.5))\n",
        "    #shell.SendKeys(\"{F12}\")\n",
        "\n",
        "    time.sleep(randfloat(a = 0.5, b = 1.0))\n",
        "    pos_choice_X_1 = 120\n",
        "    pos_choice_Y_1 = 580\n",
        "    l_click(pos_choice_X_1,pos_choice_Y_1)#Поиск контейнера\n",
        "    time.sleep(randfloat(a = 0.2, b = 0.5))\n",
        "    shell.SendKeys(\"^a\")\n",
        "    time.sleep(randfloat(a = 0.2, b = 0.5))\n",
        "    shell.SendKeys(\"{DELETE}\")\n",
        "    shell.SendKeys(\".table-container\")\n",
        "    time.sleep(randfloat(a = 0.4, b = 1.2))\n",
        "    shell.SendKeys(\"{ENTER}\")\n",
        "\n",
        "    time.sleep(randfloat(a = 0.4, b = 1.0))\n",
        "    pos_choice_X_1 = 165\n",
        "    pos_choice_Y_1 = 715\n",
        "    r_click(pos_choice_X_1,pos_choice_Y_1)#Правый клик меню\n",
        "\n",
        "    time.sleep(randfloat(a = 0.5, b = 1.0))\n",
        "    pos_choice_X_1 = 200\n",
        "    pos_choice_Y_1 = 600\n",
        "    win32api.SetCursorPos((pos_choice_X_1,pos_choice_Y_1))#Мышка на поле копирования\n",
        "    #r_click(pos_choice_X_1,pos_choice_Y_1)\n",
        "\n",
        "    time.sleep(randfloat(a = 0.5, b = 1.0))\n",
        "    pos_choice_X_1 = 490\n",
        "    pos_choice_Y_1 = 600\n",
        "    win32api.SetCursorPos((pos_choice_X_1,pos_choice_Y_1))#Копирование HTML\n",
        "    l_click(pos_choice_X_1,pos_choice_Y_1)\n",
        "\n",
        "    time.sleep(0.1)\n",
        "    text = str(tk.clipboard_get())\n",
        "    wr.write(text)\n",
        "    wr.write('\\n')\n",
        "\n",
        "    shell.SendKeys(\"%{TAB}\")\n",
        "    time.sleep(0.2)\n",
        "    shell.SendKeys(\"{END}\")\n",
        "    time.sleep(0.1)\n",
        "    shell.SendKeys(\"{DOWN}\")\n",
        "    time.sleep(0.1)\n",
        "    shell.SendKeys(\"+{HOME}\")\n",
        "    time.sleep(0.1)\n",
        "    shell.SendKeys(\"^c\")\n",
        "    time.sleep(0.1)\n",
        "    shell.SendKeys(\"%{TAB}\")\n",
        "    time.sleep(0.1)"
      ]
    },
    {
      "cell_type": "code",
      "execution_count": null,
      "metadata": {
        "scrolled": true,
        "id": "SCbbHV3K0RNG",
        "outputId": "f52c9321-47fd-4388-a407-37533c9b0f88"
      },
      "outputs": [
        {
          "ename": "KeyboardInterrupt",
          "evalue": "",
          "output_type": "error",
          "traceback": [
            "\u001b[1;31m---------------------------------------------------------------------------\u001b[0m",
            "\u001b[1;31mKeyboardInterrupt\u001b[0m                         Traceback (most recent call last)",
            "\u001b[1;32mC:\\Users\\ZHMURI~1.ROM\\AppData\\Local\\Temp/ipykernel_19924/569239730.py\u001b[0m in \u001b[0;36m<module>\u001b[1;34m\u001b[0m\n\u001b[0;32m      4\u001b[0m     \u001b[0mtk\u001b[0m\u001b[1;33m=\u001b[0m\u001b[0mTk\u001b[0m\u001b[1;33m(\u001b[0m\u001b[1;33m)\u001b[0m\u001b[1;33m\u001b[0m\u001b[1;33m\u001b[0m\u001b[0m\n\u001b[0;32m      5\u001b[0m     \u001b[0mshell\u001b[0m \u001b[1;33m=\u001b[0m \u001b[0mwin32com\u001b[0m\u001b[1;33m.\u001b[0m\u001b[0mclient\u001b[0m\u001b[1;33m.\u001b[0m\u001b[0mDispatch\u001b[0m\u001b[1;33m(\u001b[0m\u001b[1;34m\"WScript.Shell\"\u001b[0m\u001b[1;33m)\u001b[0m\u001b[1;33m\u001b[0m\u001b[1;33m\u001b[0m\u001b[0m\n\u001b[1;32m----> 6\u001b[1;33m     \u001b[0mtime\u001b[0m\u001b[1;33m.\u001b[0m\u001b[0msleep\u001b[0m\u001b[1;33m(\u001b[0m\u001b[1;36m5\u001b[0m\u001b[1;33m)\u001b[0m\u001b[1;33m\u001b[0m\u001b[1;33m\u001b[0m\u001b[0m\n\u001b[0m\u001b[0;32m      7\u001b[0m     \u001b[0mpos_choice_X_1\u001b[0m \u001b[1;33m=\u001b[0m \u001b[1;36m800\u001b[0m\u001b[1;33m\u001b[0m\u001b[1;33m\u001b[0m\u001b[0m\n\u001b[0;32m      8\u001b[0m     \u001b[0mpos_choice_Y_1\u001b[0m \u001b[1;33m=\u001b[0m \u001b[1;36m420\u001b[0m\u001b[1;33m\u001b[0m\u001b[1;33m\u001b[0m\u001b[0m\n",
            "\u001b[1;31mKeyboardInterrupt\u001b[0m: "
          ]
        }
      ],
      "source": [
        "webbrowser.open('https://gosuslugi.primorsky.ru/registry/taxi.htm', new=1)\n",
        "\n",
        "with open('data6.txt', 'w') as wr:\n",
        "    tk=Tk()\n",
        "    shell = win32com.client.Dispatch(\"WScript.Shell\")\n",
        "    time.sleep(5)\n",
        "    pos_choice_X_1 = 800\n",
        "    pos_choice_Y_1 = 420\n",
        "    l_click(pos_choice_X_1,pos_choice_Y_1) #Клик строка поиска\n",
        "\n",
        "    time.sleep(randfloat(a = 1.5, b = 3))\n",
        "    #shell.Clipboard(\"С117МХ125\")\n",
        "    shell.SendKeys(\"^v\") #Вставить в строку\n",
        "\n",
        "    time.sleep(randfloat(a = 1, b = 3))\n",
        "    pos_choice_X_1 = 1260\n",
        "    pos_choice_Y_1 = 420\n",
        "    l_click(pos_choice_X_1,pos_choice_Y_1)#Нажать Поиск\n",
        "    shell.SendKeys(\"{F12}\")\n",
        "\n",
        "    time.sleep(randfloat(a = 1, b = 3))\n",
        "    pos_choice_X_1 = 120\n",
        "    pos_choice_Y_1 = 580\n",
        "    l_click(pos_choice_X_1,pos_choice_Y_1)#Поиск контейнера\n",
        "    shell.SendKeys(\".table-container\")\n",
        "    time.sleep(randfloat(a = 0.2, b = 1.5))\n",
        "    shell.SendKeys(\"{ENTER}\")\n",
        "\n",
        "    time.sleep(randfloat(a = 1, b = 2))\n",
        "    pos_choice_X_1 = 165\n",
        "    pos_choice_Y_1 = 715\n",
        "    r_click(pos_choice_X_1,pos_choice_Y_1)#Правый клик меню\n",
        "\n",
        "    time.sleep(randfloat(a = 1, b = 2))\n",
        "    pos_choice_X_1 = 200\n",
        "    pos_choice_Y_1 = 600\n",
        "    win32api.SetCursorPos((pos_choice_X_1,pos_choice_Y_1))#Мышка  на поле копирования\n",
        "    #r_click(pos_choice_X_1,pos_choice_Y_1)\n",
        "\n",
        "    time.sleep(randfloat(a = 1, b = 2))\n",
        "    pos_choice_X_1 = 490\n",
        "    pos_choice_Y_1 = 600\n",
        "    win32api.SetCursorPos((pos_choice_X_1,pos_choice_Y_1))#Копирование HTML\n",
        "    l_click(pos_choice_X_1,pos_choice_Y_1)\n",
        "    time.sleep(0.1)\n",
        "    text = str(tk.clipboard_get())\n",
        "    wr.write(text)\n",
        "    wr.write('\\n')\n",
        "\n",
        "    shell.SendKeys(\"%{TAB}\")\n",
        "    time.sleep(0.3)\n",
        "    shell.SendKeys(\"+{HOME}\")\n",
        "    time.sleep(0.3)\n",
        "    shell.SendKeys(\"^c\")\n",
        "    time.sleep(0.3)\n",
        "    shell.SendKeys(\"%{TAB}\")\n",
        "    time.sleep(0.3)\n",
        "\n",
        "    for i in range(1500):\n",
        "        oneCarSearch(wr = wr)"
      ]
    },
    {
      "cell_type": "code",
      "execution_count": null,
      "metadata": {
        "id": "n38dW67q0RNH"
      },
      "outputs": [],
      "source": [
        "for i in range(5):\n",
        "        oneCarSearch(wr = wr)"
      ]
    },
    {
      "cell_type": "code",
      "execution_count": null,
      "metadata": {
        "id": "-pa8apeJ0RNH",
        "outputId": "4ec83130-2f1b-4683-ab0f-9cbbb8aaa265"
      },
      "outputs": [
        {
          "name": "stdout",
          "output_type": "stream",
          "text": [
            "0\n",
            "1\n",
            "2\n",
            "3\n",
            "4\n",
            "5\n",
            "6\n",
            "7\n",
            "8\n",
            "9\n"
          ]
        }
      ],
      "source": []
    },
    {
      "cell_type": "code",
      "execution_count": null,
      "metadata": {
        "id": "2nMMTW-k0RNH"
      },
      "outputs": [],
      "source": []
    }
  ],
  "metadata": {
    "kernelspec": {
      "display_name": "Python 3 (ipykernel)",
      "language": "python",
      "name": "python3"
    },
    "language_info": {
      "codemirror_mode": {
        "name": "ipython",
        "version": 3
      },
      "file_extension": ".py",
      "mimetype": "text/x-python",
      "name": "python",
      "nbconvert_exporter": "python",
      "pygments_lexer": "ipython3",
      "version": "3.9.7"
    },
    "colab": {
      "provenance": []
    }
  },
  "nbformat": 4,
  "nbformat_minor": 0
}