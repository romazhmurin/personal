{
 "cells": [
  {
   "cell_type": "code",
   "execution_count": null,
   "metadata": {
    "id": "_Tvm6KJhyLSu"
   },
   "outputs": [],
   "source": [
    "import time\n",
    "import requests\n",
    "from bs4 import BeautifulSoup\n",
    "import pandas as pd\n",
    "import numpy as np\n",
    "import datetime"
   ]
  },
  {
   "cell_type": "code",
   "execution_count": null,
   "metadata": {
    "id": "cT9rfp9uitmh"
   },
   "outputs": [],
   "source": [
    "numbers = [****]"
   ]
  },
  {
   "cell_type": "code",
   "execution_count": null,
   "metadata": {
    "id": "_1w77HQXyS2N"
   },
   "outputs": [],
   "source": [
    "numbersMissed = [***]"
   ]
  },
  {
   "cell_type": "code",
   "execution_count": null,
   "metadata": {
    "id": "pjcqi7liIhKq"
   },
   "outputs": [],
   "source": [
    "numberMissed2 = [***]"
   ]
  },
  {
   "cell_type": "code",
   "execution_count": null,
   "metadata": {
    "id": "baQoqoxhIPs7"
   },
   "outputs": [],
   "source": [
    "with open('data5.txt') as f:\n",
    "   read_data = f.read()"
   ]
  },
  {
   "cell_type": "code",
   "execution_count": null,
   "metadata": {
    "id": "0zf67PIjyqav"
   },
   "outputs": [],
   "source": [
    "soup = BeautifulSoup(read_data)\n",
    "tables = soup.find_all('tr', {'class': 'item'}) #Получаем все таблицы с таблицу с параметрами"
   ]
  },
  {
   "cell_type": "code",
   "execution_count": null,
   "metadata": {
    "id": "srVKQpmQ0Tku"
   },
   "outputs": [],
   "source": [
    "tableResult = np.empty(shape = (1,13), dtype = str)\n",
    "\n",
    "for t in tables:\n",
    "    soup = BeautifulSoup(str(t)) #Первая машина в таблице\n",
    "    tablesInfo = soup.find_all('td')\n",
    "    tablesInfoArray = np.char.replace(\n",
    "                                      np.char.replace(\n",
    "                                                      np.char.replace(np.array(list(map(str, np.array(tablesInfo, dtype=object)))), '<td>\\n', ''), \n",
    "                                                                                                                        '</td>', ''), \n",
    "                                                                                                                '  ', '')\n",
    "    try:\n",
    "        for i in [4, 5, 6, 12]:\n",
    "            soup = BeautifulSoup(str(tablesInfoArray[i]))\n",
    "            toChange = soup.find_all('div', {'class': 'mobile-hidden'})\n",
    "            tablesInfoArray[i] = np.char.replace(np.char.replace(toChange[0].contents[0], ' ', ''), '\\n', '')\n",
    "        tableResult = np.vstack((tableResult, tablesInfoArray))\n",
    "    except Exception as err:\n",
    "        error = tablesInfo\n",
    "        print(err)\n",
    "        notErrPrev = prev\n",
    "    prev = tablesInfo"
   ]
  },
  {
   "cell_type": "code",
   "execution_count": null,
   "metadata": {
    "id": "-Wbp-uuwDspG"
   },
   "outputs": [],
   "source": [
    "result = pd.DataFrame(tableResult[1:], columns = ['Полное наименование', 'Сокращенное наименование', 'ОГРН', \n",
    "                                                  'Номер разрешения', 'Дата внесения реестровой записи о выдаче разрешения', \n",
    "                                                  'Дата начала действия разрешения', 'Срок действия разрешения', \n",
    "                                                  'Серия и номер бланка разрешения', 'Марка автомобиля', 'Модель автомобиля', \n",
    "                                                  'Государственный номер', 'Признак аннулирования', 'Дата аннулирования'])"
   ]
  },
  {
   "cell_type": "code",
   "execution_count": null,
   "metadata": {
    "id": "HEVMxr-jL9K_"
   },
   "outputs": [],
   "source": [
    "mask = result['Номер разрешения'].str.contains(r'Укажите номер разрешения', na=True)\n",
    "result.loc[mask, 'Номер разрешения'] = result.loc[mask, 'Номер разрешения'].replace('Укажите номер разрешения', '-')\n",
    "for c in ['Полное наименование', 'Сокращенное наименование', 'Серия и номер бланка разрешения', \n",
    "          'Марка автомобиля', 'Модель автомобиля', 'Государственный номер', 'Признак аннулирования']:\n",
    "    result[c] = result[c].astype(str)\n",
    "for c in ['ОГРН', 'Номер разрешения']:\n",
    "    result[c] = result[c].astype(str)\n",
    "for c in ['Дата внесения реестровой записи о выдаче разрешения', 'Дата начала действия разрешения', \n",
    "          'Срок действия разрешения', 'Дата аннулирования']:\n",
    "    result.loc[~result[c].isin(['']), c] = pd.to_datetime(result.loc[~result[c].isin(['']), c], format = '%d.%m.%Y').dt.date"
   ]
  },
  {
   "cell_type": "code",
   "execution_count": null,
   "metadata": {
    "id": "lglkHp5dlHHT"
   },
   "outputs": [],
   "source": [
    "mask = result['Государственный номер'].str.contains(r' ', na=True)\n",
    "result.loc[mask, 'Государственный номер'] = result.loc[mask, 'Государственный номер'].replace(to_replace=' ', value='', regex=True)"
   ]
  },
  {
   "cell_type": "code",
   "execution_count": null,
   "metadata": {
    "id": "SH3gEuJFl7M3"
   },
   "outputs": [],
   "source": [
    "mask = result['Государственный номер'].str.contains(r'RUS', na=True)\n",
    "result.loc[mask, 'Государственный номер'] = result.loc[mask, 'Государственный номер'].replace(to_replace='RUS', value='', regex=True)"
   ]
  },
  {
   "cell_type": "code",
   "execution_count": null,
   "metadata": {
    "id": "sjDX6_RgrIWi"
   },
   "outputs": [],
   "source": [
    "#result = result.convert_dtypes()"
   ]
  },
  {
   "cell_type": "code",
   "execution_count": null,
   "metadata": {
    "id": "JbkiGWIBsixp"
   },
   "outputs": [],
   "source": [
    "#pd.to_datetime(result[~result['Дата внесения реестровой записи о выдаче разрешения'].isin([''])]['Дата внесения реестровой записи о выдаче разрешения'], format = '%d.%m.%Y')"
   ]
  },
  {
   "cell_type": "code",
   "execution_count": null,
   "metadata": {
    "colab": {
     "base_uri": "https://localhost:8080/",
     "height": 461
    },
    "id": "irHRFVJ_MLOE",
    "outputId": "ca36d04d-f962-4dc4-9577-ab1884cbf851"
   },
   "outputs": [],
   "source": [
    "result.tail(5)"
   ]
  },
  {
   "cell_type": "code",
   "execution_count": null,
   "metadata": {
    "id": "AHqhb13OpBnJ"
   },
   "outputs": [],
   "source": [
    "#~((result['Признак аннулирования'] == 'Да') & (result['Государственный номер'].isin(numbers))) &"
   ]
  },
  {
   "cell_type": "code",
   "execution_count": null,
   "metadata": {
    "colab": {
     "base_uri": "https://localhost:8080/"
    },
    "id": "P1Tlpx16rj2J",
    "outputId": "7cd1f81d-56e5-44a6-bbf4-652aa7783742"
   },
   "outputs": [],
   "source": [
    "np.setdiff1d(numberMissed2, result[result['Государственный номер'].isin(numberMissed2)]['Государственный номер'].unique())"
   ]
  },
  {
   "cell_type": "code",
   "execution_count": null,
   "metadata": {},
   "outputs": [],
   "source": [
    "len(result[result['Государственный номер'].isin(numberMissed2)]['Государственный номер'].unique())"
   ]
  },
  {
   "cell_type": "code",
   "execution_count": null,
   "metadata": {
    "id": "TXEEG6PzjQcV"
   },
   "outputs": [],
   "source": [
    "dfBad = result[(result['Признак аннулирования'] == 'Нет') & \n",
    "       (pd.to_datetime(result['Срок действия разрешения'], format = '%Y-%m-%d').dt.date > datetime.date(2022, 6, 16))]"
   ]
  },
  {
   "cell_type": "code",
   "execution_count": null,
   "metadata": {
    "colab": {
     "base_uri": "https://localhost:8080/",
     "height": 1000
    },
    "id": "jIJmt4pjKOJq",
    "outputId": "62a64bd3-82b5-4f0f-dd07-49a4a552a127"
   },
   "outputs": [],
   "source": [
    "dfBad"
   ]
  },
  {
   "cell_type": "code",
   "execution_count": null,
   "metadata": {
    "id": "tMDQUHotrnQn"
   },
   "outputs": [],
   "source": [
    "#dfBad.to_csv('taxiBadFiltered.csv', header = True)"
   ]
  },
  {
   "cell_type": "code",
   "execution_count": null,
   "metadata": {
    "id": "8VCZiT5Oebb3"
   },
   "outputs": [],
   "source": [
    "#result.to_csv('taxiAll.csv', header = True)"
   ]
  },
  {
   "cell_type": "code",
   "execution_count": null,
   "metadata": {
    "id": "UOf-zLZgH4Vs"
   },
   "outputs": [],
   "source": [
    "dfBad.to_excel('taxiBadFiltered3Stage.xlsx', header = True)"
   ]
  },
  {
   "cell_type": "code",
   "execution_count": null,
   "metadata": {
    "id": "hXxPDsgIH4TE"
   },
   "outputs": [],
   "source": [
    "result.to_excel('taxiAll3Stage.xlsx', header = True)"
   ]
  },
  {
   "cell_type": "code",
   "execution_count": null,
   "metadata": {
    "id": "gdmLrWujH4QP"
   },
   "outputs": [],
   "source": []
  },
  {
   "cell_type": "code",
   "execution_count": null,
   "metadata": {
    "id": "qVUOQCoH0S0K"
   },
   "outputs": [],
   "source": []
  }
 ],
 "metadata": {
  "colab": {
   "name": "Untitled3.ipynb",
   "provenance": []
  },
  "kernelspec": {
   "display_name": "Python 3 (ipykernel)",
   "language": "python",
   "name": "python3"
  },
  "language_info": {
   "codemirror_mode": {
    "name": "ipython",
    "version": 3
   },
   "file_extension": ".py",
   "mimetype": "text/x-python",
   "name": "python",
   "nbconvert_exporter": "python",
   "pygments_lexer": "ipython3",
   "version": "3.10.6"
  }
 },
 "nbformat": 4,
 "nbformat_minor": 1
}
