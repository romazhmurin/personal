{
 "cells": [
  {
   "cell_type": "code",
   "execution_count": 47,
   "id": "30381090",
   "metadata": {},
   "outputs": [],
   "source": [
    "import pandas as pd\n",
    "import os\n",
    "import numpy as np\n",
    "\n",
    "import shutil"
   ]
  },
  {
   "cell_type": "code",
   "execution_count": 50,
   "id": "8df68e9d",
   "metadata": {},
   "outputs": [],
   "source": [
    "path = r\"C:\\Users\\Zhmurin.Roman\\Работа\\Диск С\\2022.08.15 - ОСАГО ЮЛ. Ревизия нецелевого сегмента\"\n",
    "\n",
    "data = pd.read_excel(r'C:\\Users\\Zhmurin.Roman\\Работа\\Диск С\\2022.08.15 - ОСАГО ЮЛ. Ревизия нецелевого сегмента\\Объем нецелевого сегмента v8.xlsx', \n",
    "                     sheet_name='Данные', \n",
    "                     dtype = object)"
   ]
  },
  {
   "cell_type": "markdown",
   "id": "faaae888",
   "metadata": {},
   "source": [
    "# Предобработка"
   ]
  },
  {
   "cell_type": "code",
   "execution_count": null,
   "id": "10f2d7c6",
   "metadata": {
    "scrolled": true
   },
   "outputs": [],
   "source": [
    "df = data\n",
    "df.tail()"
   ]
  },
  {
   "cell_type": "code",
   "execution_count": null,
   "id": "1809d5ab",
   "metadata": {},
   "outputs": [],
   "source": [
    "np.sum(df.isnull())"
   ]
  },
  {
   "cell_type": "code",
   "execution_count": null,
   "id": "9015a820",
   "metadata": {},
   "outputs": [],
   "source": [
    "df.columns"
   ]
  },
  {
   "cell_type": "code",
   "execution_count": null,
   "id": "0c0a3cca",
   "metadata": {},
   "outputs": [],
   "source": [
    "df['Канал Продаж'].unique()"
   ]
  },
  {
   "cell_type": "code",
   "execution_count": 55,
   "id": "8004fd7f",
   "metadata": {},
   "outputs": [],
   "source": [
    "df['Канал Продаж'] = df['Канал Продаж'].replace('Прямые продажи', 'Прямой канал')\n",
    "df['Канал Продаж'] = df['Канал Продаж'].replace(['Агент ФЛ', 'Агент ЮЛ', 'Страховой брокер', \n",
    "                                                 'Лизинговая компания', 'Банки группы ВТБ'], 'Агентский канал')"
   ]
  },
  {
   "cell_type": "code",
   "execution_count": 56,
   "id": "cac88522",
   "metadata": {},
   "outputs": [
    {
     "data": {
      "text/plain": [
       "array(['Прямой канал', 'Агентский канал'], dtype=object)"
      ]
     },
     "execution_count": 56,
     "metadata": {},
     "output_type": "execute_result"
    }
   ],
   "source": [
    "df['Канал Продаж'].unique()"
   ]
  },
  {
   "cell_type": "code",
   "execution_count": 57,
   "id": "3bc554d1",
   "metadata": {},
   "outputs": [
    {
     "data": {
      "text/plain": [
       "array(['Нецелевой согласованный', 'Целевой',\n",
       "       'Нецелевой согласованный до 01.04.2022',\n",
       "       'Нецелевой несогласованный', 'Не определено'], dtype=object)"
      ]
     },
     "execution_count": 57,
     "metadata": {},
     "output_type": "execute_result"
    }
   ],
   "source": [
    "df['SEGMENT'].unique()"
   ]
  },
  {
   "cell_type": "markdown",
   "id": "4b1a2565",
   "metadata": {},
   "source": []
  },
  {
   "cell_type": "code",
   "execution_count": 58,
   "id": "136e2194",
   "metadata": {},
   "outputs": [],
   "source": [
    "cols = ['Филиал', 'Ответственный Руководитель', 'Канал Продаж',\n",
    "        'СтраховательИНН', 'Страхователь', 'СобственникИНН',\n",
    "        'Собственник', 'SEGMENT']\n",
    "countFor = ['Номер']\n",
    "dfToAnalyse = df[df['SEGMENT'].isin(['Нецелевой несогласованный', 'Нецелевой согласованный до 01.04.2022'])][cols+countFor]\n",
    "dfRes = dfToAnalyse.groupby(cols, as_index=False, dropna=False).count()\n",
    "dfRes = dfRes.rename(columns={'Номер': 'Кол-во полисов'})"
   ]
  },
  {
   "cell_type": "markdown",
   "id": "049649e6",
   "metadata": {},
   "source": [
    "# Выгрузка + сортировка"
   ]
  },
  {
   "cell_type": "code",
   "execution_count": 62,
   "id": "6e30b8e5",
   "metadata": {},
   "outputs": [],
   "source": [
    "filials = dfRes['Филиал'].unique()\n",
    "\n",
    "for filial in filials:\n",
    "    file_name = '(Обновленный реестр) ' + filial + '.xlsx'\n",
    "    dfToSave = dfRes[dfRes['Филиал'] == filial].sort_values(by=['СтраховательИНН'])\n",
    "    dfToSave.to_excel(path + '\\Проверка' + '\\ '.strip() + file_name, index = False)\n",
    "\n",
    "dfToSave = dfRes.sort_values(by=['СтраховательИНН'])\n",
    "dfToSave.to_excel(path + '\\Проверка' + '\\ '.strip() + '(Обновленный реестр) Итог.xlsx', index = False)"
   ]
  },
  {
   "cell_type": "code",
   "execution_count": 63,
   "id": "488910fb",
   "metadata": {},
   "outputs": [
    {
     "data": {
      "text/plain": [
       "False"
      ]
     },
     "execution_count": 63,
     "metadata": {},
     "output_type": "execute_result"
    }
   ],
   "source": [
    "set(filials).issubset(set(os.listdir(r'R:\\Обмен с филиалами')))"
   ]
  },
  {
   "cell_type": "code",
   "execution_count": 64,
   "id": "84e59505",
   "metadata": {},
   "outputs": [
    {
     "data": {
      "text/plain": [
       "array(['Санкт-Петербургский филиал', 'Центральный филиал',\n",
       "       'Череповецкий филиал'], dtype=object)"
      ]
     },
     "execution_count": 64,
     "metadata": {},
     "output_type": "execute_result"
    }
   ],
   "source": [
    "np.setdiff1d(filials, os.listdir(r'R:\\Обмен с филиалами'))"
   ]
  },
  {
   "cell_type": "code",
   "execution_count": null,
   "id": "b4050ed9",
   "metadata": {},
   "outputs": [],
   "source": [
    "filials"
   ]
  },
  {
   "cell_type": "code",
   "execution_count": null,
   "id": "61fa8e28",
   "metadata": {},
   "outputs": [],
   "source": [
    "filials = dfRes['Филиал'].unique()\n",
    "for filial in filials:\n",
    "    if filial not in np.setdiff1d(filials, os.listdir(r'R:\\Обмен с филиалами')):\n",
    "        new_dir = r'R:\\Обмен с филиалами\\ '.strip() + filial + '\\ '.strip() + 'ОСАГО ЮЛ – нецелевые парки'\n",
    "        #shutil.rmtree(new_dir, ignore_errors=True)\n",
    "        #os.mkdir(new_dir)\n",
    "        file_name = '(Обновленный реестр) ' + filial + '.xlsx'\n",
    "        #dfToSave = dfRes[dfRes['Филиал'] == filial].sort_values(by=['СтраховательИНН'])\n",
    "        shutil.copy(path + '\\Проверка' + '\\ '.strip() + file_name, new_dir + '\\ '.strip() + file_name)\n",
    "        print('*' + filial + ' выгружен в папку ' + new_dir)\n",
    "    else:\n",
    "        print('*** Не выгружен ' + filial + '. Нужно найти подходящую папку в R:\\Обмен с филиалами')"
   ]
  },
  {
   "cell_type": "code",
   "execution_count": 48,
   "id": "36814c59",
   "metadata": {},
   "outputs": [],
   "source": []
  },
  {
   "cell_type": "code",
   "execution_count": null,
   "id": "8ae2c28a",
   "metadata": {},
   "outputs": [],
   "source": []
  }
 ],
 "metadata": {
  "kernelspec": {
   "display_name": "Python 3 (ipykernel)",
   "language": "python",
   "name": "python3"
  },
  "language_info": {
   "codemirror_mode": {
    "name": "ipython",
    "version": 3
   },
   "file_extension": ".py",
   "mimetype": "text/x-python",
   "name": "python",
   "nbconvert_exporter": "python",
   "pygments_lexer": "ipython3",
   "version": "3.10.6"
  }
 },
 "nbformat": 4,
 "nbformat_minor": 5
}
