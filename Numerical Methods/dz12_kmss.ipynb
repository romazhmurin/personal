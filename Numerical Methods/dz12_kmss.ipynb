{
 "cells": [
  {
   "cell_type": "markdown",
   "metadata": {
    "colab_type": "text",
    "id": "view-in-github"
   },
   "source": [
    "<a href=\"https://colab.research.google.com/github/RomaZhm/ColabNotes/blob/main/dz12_kmss.ipynb\" target=\"_parent\"><img src=\"https://colab.research.google.com/assets/colab-badge.svg\" alt=\"Open In Colab\"/></a>"
   ]
  },
  {
   "cell_type": "code",
   "execution_count": null,
   "metadata": {
    "id": "atx6mNoLZuvD"
   },
   "outputs": [],
   "source": [
    "import numpy as np\n",
    "import math\n",
    "\n",
    "def ksi_mod(): # функция моделирования \"Кси\" (интервалы между приходами требований)\n",
    "    gamma = np.random.random() # моделирование гамма\n",
    "    ksi = - math.log(gamma) / 0.5\n",
    "    return ksi"
   ]
  },
  {
   "cell_type": "code",
   "execution_count": null,
   "metadata": {
    "id": "Xn1_uC4dZ4PG"
   },
   "outputs": [],
   "source": [
    "def eta_mod(a, b): # функция моделирования \"Эта\" на [a,b] (время обслуживания на (1,2)ом канале)\n",
    "    gamma = np.random.random()\n",
    "    eta = (b - a) * gamma + a\n",
    "    return eta"
   ]
  },
  {
   "cell_type": "code",
   "execution_count": null,
   "metadata": {
    "id": "9X9xrA11aEqJ"
   },
   "outputs": [],
   "source": [
    "def estimate_f(T):\n",
    "    T0 = 0\n",
    "    Tk = [0, 0]\n",
    "    Ind = 1 # Ind = 1, то есть пока не было потеряно более одного требования\n",
    "    count = 0 # подсчет потерянных требований\n",
    "    while T0 <= T: # пока находимся в интервале [0, 150]\n",
    "      ksi = ksi_mod()\n",
    "      T0 = T0 + ksi\n",
    "      if T0 > min(Tk): # есть минимум один свободный канал; ищем первый из свободных\n",
    "          if Tk[0] < T0: # свободен 1ый канал\n",
    "              eta = eta_mod(a = 0, b = 2) # моделируем время обслуживания на нем(распределено равномерно на [0,2])\n",
    "              Tk[0] = T0 + eta\n",
    "          else: # свободен 2ой\n",
    "              eta = eta_mod(a = 1, b = 3) # время обслуживания на нем распределено равномерно на [1,3]\n",
    "              Tk[1] = T0 + eta \n",
    "      else: # потеряли требование\n",
    "          count = count + 1 # записываем потерю\n",
    "          if count > 1: # не выполнено требование \"потеряно требований <= 1\":возвращаем 0\n",
    "              Ind = 0\n",
    "              return Ind \n",
    "          else: # требование выполнено, продолжаем моделировать приходы требований\n",
    "              continue\n",
    "    # если за весь интервал [0, 150] не было потеряно более одного требования возвращаем Ind = 1\n",
    "    return Ind"
   ]
  },
  {
   "cell_type": "code",
   "execution_count": null,
   "metadata": {
    "id": "BV0_EPC5a4AO"
   },
   "outputs": [],
   "source": [
    "def estNmin(teta, delt = 0.1):\n",
    "    # для дов. вер-ти 92% квантиль равен 1-(1-0.92)/2 = 0.96 => по таблице x_0 = 1.75\n",
    "    x_0 = 1.75 \n",
    "    return (x_0**2) * teta / (delt**2)"
   ]
  },
  {
   "cell_type": "code",
   "execution_count": null,
   "metadata": {
    "id": "QHNvaaHGa8K-"
   },
   "outputs": [],
   "source": [
    "def estP(): # оценка вероятности того, что не будет потеряно более одного требования\n",
    "    N = 500 # выбираем начальное количество моделирований \n",
    "    i = 0\n",
    "    sum = 0 # сумма моделируемых величин\n",
    "    sum_sq = 0 # сумма квадратов мод. величин\n",
    "    while True:\n",
    "        while i < N:\n",
    "            x = estimate_f(T = 150)\n",
    "            sum = sum + x\n",
    "            sum_sq = sum_sq + x**2\n",
    "            i = i + 1\n",
    "          \n",
    "        sum_mean = sum/N # нашли среднее значение суммы\n",
    "        teta = (sum_sq/N)/(sum_mean**2) - 1 # посчитали тета\n",
    "        Nmin = math.ceil(estNmin(teta, delt = 0.1)) # посчитали Nmin\n",
    "        if Nmin <= N:\n",
    "            return sum_mean, N\n",
    "        else:\n",
    "            N = Nmin"
   ]
  },
  {
   "cell_type": "code",
   "execution_count": null,
   "metadata": {
    "colab": {
     "base_uri": "https://localhost:8080/"
    },
    "id": "yQLLK-Z4bSVH",
    "outputId": "9191ae3c-abdb-493d-f5fa-00be6e292c45"
   },
   "outputs": [
    {
     "name": "stdout",
     "output_type": "stream",
     "text": [
      "Несколько оценок: \n",
      "Вероятность не потерять больше одного требования = 0.008452929558920342 (Nmin для оценки: 37975)\n",
      "Вероятность не потерять больше одного требования = 0.007345024762542766 (Nmin для оценки: 41797)\n",
      "Вероятность не потерять больше одного требования = 0.00845484282308588 (Nmin для оценки: 36074)\n",
      "Вероятность не потерять больше одного требования = 0.008377049630585845 (Nmin для оценки: 36409)\n",
      "Вероятность не потерять больше одного требования = 0.008108393640061275 (Nmin для оценки: 37862)\n"
     ]
    }
   ],
   "source": [
    "n = 5\n",
    "print('Несколько оценок: ')\n",
    "for j in range(n):  \n",
    "  P = estP()\n",
    "  print('Вероятность не потерять больше одного требования = ', P[0], ' (Nmin для оценки: ', P[1], ')', sep = '')"
   ]
  },
  {
   "cell_type": "code",
   "execution_count": null,
   "metadata": {
    "id": "Cffz_G-E5aPW"
   },
   "outputs": [],
   "source": []
  }
 ],
 "metadata": {
  "colab": {
   "authorship_tag": "ABX9TyPf8tYjnyaBJ5CqJHCr79rs",
   "collapsed_sections": [],
   "include_colab_link": true,
   "name": "dz12_kmss.ipynb",
   "provenance": []
  },
  "kernelspec": {
   "display_name": "Python 3 (ipykernel)",
   "language": "python",
   "name": "python3"
  },
  "language_info": {
   "codemirror_mode": {
    "name": "ipython",
    "version": 3
   },
   "file_extension": ".py",
   "mimetype": "text/x-python",
   "name": "python",
   "nbconvert_exporter": "python",
   "pygments_lexer": "ipython3",
   "version": "3.10.6"
  }
 },
 "nbformat": 4,
 "nbformat_minor": 1
}
