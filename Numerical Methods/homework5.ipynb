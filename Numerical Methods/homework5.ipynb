{
  "nbformat": 4,
  "nbformat_minor": 0,
  "metadata": {
    "colab": {
      "name": "homework5.ipynb",
      "provenance": [],
      "collapsed_sections": [],
      "authorship_tag": "ABX9TyNd1V9xWFaCHpLRTtf9v7As",
      "include_colab_link": true
    },
    "kernelspec": {
      "name": "python3",
      "display_name": "Python 3"
    },
    "language_info": {
      "name": "python"
    }
  },
  "cells": [
    {
      "cell_type": "markdown",
      "metadata": {
        "id": "view-in-github",
        "colab_type": "text"
      },
      "source": [
        "<a href=\"https://colab.research.google.com/github/RomaZhm/ColabNotes/blob/main/homework5.ipynb\" target=\"_parent\"><img src=\"https://colab.research.google.com/assets/colab-badge.svg\" alt=\"Open In Colab\"/></a>"
      ]
    },
    {
      "cell_type": "code",
      "metadata": {
        "id": "xGHZi64bRSnv"
      },
      "source": [
        "from math import log, exp, cos, sin"
      ],
      "execution_count": null,
      "outputs": []
    },
    {
      "cell_type": "markdown",
      "metadata": {
        "id": "gpaH3Jy6PhE7"
      },
      "source": [
        "#Задача 1"
      ]
    },
    {
      "cell_type": "markdown",
      "metadata": {
        "id": "rYcI7NuxQu7t"
      },
      "source": [
        "(i)\n",
        "1 + cos x = 0"
      ]
    },
    {
      "cell_type": "code",
      "metadata": {
        "colab": {
          "base_uri": "https://localhost:8080/"
        },
        "id": "vlXrOlo3OJFN",
        "outputId": "dd96fedb-93f1-46f3-c332-fd91ad313830"
      },
      "source": [
        "eps = 1e-7\n",
        "x = 1\n",
        "nit = 0\n",
        "while True:\n",
        "    xPrev = x\n",
        "    x = xPrev + (cos(xPrev)+1)/sin(xPrev)\n",
        "    nit += 1\n",
        "    if (abs(x - xPrev) < eps or nit > 500):\n",
        "        break\n",
        "print(x, nit)"
      ],
      "execution_count": null,
      "outputs": [
        {
          "output_type": "stream",
          "text": [
            "3.141592580278183 23\n"
          ],
          "name": "stdout"
        }
      ]
    },
    {
      "cell_type": "markdown",
      "metadata": {
        "id": "4VE0niwdSJEU"
      },
      "source": [
        "(ii) $x^2 = 2$"
      ]
    },
    {
      "cell_type": "code",
      "metadata": {
        "colab": {
          "base_uri": "https://localhost:8080/"
        },
        "id": "CUGH1zHwRybT",
        "outputId": "683188d7-b707-4da4-e6df-1e0a6c30bc54"
      },
      "source": [
        "eps = 1e-7\n",
        "x = 1\n",
        "nit = 0\n",
        "while True:\n",
        "    xPrev = x\n",
        "    x = 1/2*(xPrev + 2/xPrev)\n",
        "    nit += 1\n",
        "    if (abs(x - xPrev) < eps or nit > 500):\n",
        "        break\n",
        "print(x, nit)"
      ],
      "execution_count": null,
      "outputs": [
        {
          "output_type": "stream",
          "text": [
            "1.414213562373095 5\n"
          ],
          "name": "stdout"
        }
      ]
    },
    {
      "cell_type": "markdown",
      "metadata": {
        "id": "f4tthO06THpZ"
      },
      "source": [
        "Для (i) сходимость линейная, для (ii) квадратичная"
      ]
    },
    {
      "cell_type": "markdown",
      "metadata": {
        "id": "ynhU4HYYVs0J"
      },
      "source": [
        "#Задание 2"
      ]
    },
    {
      "cell_type": "markdown",
      "metadata": {
        "id": "CYCXXPpadWAM"
      },
      "source": [
        "Диагональное доминирование"
      ]
    },
    {
      "cell_type": "code",
      "metadata": {
        "colab": {
          "base_uri": "https://localhost:8080/"
        },
        "id": "3wKGyJIoSkFW",
        "outputId": "961ed153-122e-4e6e-dc34-7353c098eeec"
      },
      "source": [
        "import numpy as np\n",
        "eps = 1e-7\n",
        "rnd = np.random.RandomState(1234)\n",
        "n = 10\n",
        "A = rnd.uniform(size = ( n , n )) + np . diag ([15]* n )\n",
        "b = rnd.uniform ( size = n )\n",
        "D = np.diag(np.diag(A))\n",
        "B = np.linalg.inv(D)@(D - A)\n",
        "c = np.linalg.inv(D)@b\n",
        "print('Норма B:', np.linalg.norm(B))\n",
        "x = b / np.amax(A)\n",
        "nit = 0\n",
        "while True:\n",
        "    xPrev = x\n",
        "    x = B@xPrev + c\n",
        "    nit += 1\n",
        "    if (np.linalg.norm(x - xPrev) < eps or nit > 500):\n",
        "        break\n",
        "print('Машинное решение:', np.linalg.solve(A, b),'Итерационное решение:', x, nit, sep = '\\n')"
      ],
      "execution_count": null,
      "outputs": [
        {
          "output_type": "stream",
          "text": [
            "Норма B: 0.36436161983015336\n",
            "Машинное решение:\n",
            "[ 0.03919429  0.03780037  0.04283232  0.02365951  0.05745031 -0.00030244\n",
            " -0.00577279  0.03177549 -0.00422849  0.05284648]\n",
            "Итерационное решение:\n",
            "[ 0.03919429  0.03780037  0.04283232  0.02365951  0.05745032 -0.00030243\n",
            " -0.00577279  0.0317755  -0.00422848  0.05284649]\n",
            "12\n"
          ],
          "name": "stdout"
        }
      ]
    },
    {
      "cell_type": "markdown",
      "metadata": {
        "id": "4_Zkh6jbdZLn"
      },
      "source": [
        "Уменьшение диагонального доминирования (при d = 5 $B≈1$)"
      ]
    },
    {
      "cell_type": "code",
      "metadata": {
        "colab": {
          "base_uri": "https://localhost:8080/"
        },
        "id": "dghtrv6tWYL6",
        "outputId": "4e546152-326b-4fb7-e566-c4ed40c6bafd"
      },
      "source": [
        "import numpy as np\n",
        "for d in [10.0, 5.0, 2.0]:\n",
        "    eps = 1e-7\n",
        "    rnd = np.random.RandomState(1234)\n",
        "    n = 10\n",
        "    A = rnd.uniform(size = ( n , n )) + np . diag ([d]* n )\n",
        "    b = rnd.uniform ( size = n )\n",
        "    D = np.diag(np.diag(A))\n",
        "    B = np.linalg.inv(D)@(D - A)\n",
        "    c = np.linalg.inv(D)@b\n",
        "    print('Норма B:', np.linalg.norm(B))\n",
        "    x = b / np.amax(A)\n",
        "    nit = 0\n",
        "    while True:\n",
        "        xPrev = x\n",
        "        x = B@xPrev + c\n",
        "        nit += 1\n",
        "        if (np.linalg.norm(x - xPrev) < eps or nit > 500):\n",
        "            break\n",
        "    print('Машинное решение:', np.linalg.solve(A, b),'Итерационное решение:', x, nit, sep = '\\n')"
      ],
      "execution_count": null,
      "outputs": [
        {
          "output_type": "stream",
          "text": [
            "Норма B: 0.5388887887486234\n",
            "Машинное решение:\n",
            "[ 0.05284585  0.05246763  0.05888502  0.02833247  0.08273644 -0.00508495\n",
            " -0.01278744  0.04385211 -0.01221715  0.07397915]\n",
            "Итерационное решение:\n",
            "[ 0.05284585  0.05246764  0.05888503  0.02833248  0.08273645 -0.00508494\n",
            " -0.01278744  0.04385211 -0.01221715  0.07397915]\n",
            "18\n",
            "Норма B: 1.0355299928250667\n",
            "Машинное решение:\n",
            "[ 0.08206499  0.0909377   0.09461125  0.02539011  0.15186887 -0.02661631\n",
            " -0.04365904  0.07261973 -0.04736649  0.12691694]\n",
            "Итерационное решение:\n",
            "[ 0.082065    0.09093772  0.09461126  0.02539013  0.15186888 -0.0266163\n",
            " -0.04365903  0.07261974 -0.04736648  0.12691695]\n",
            "92\n",
            "Норма B: 2.334809111760855\n",
            "Машинное решение:\n",
            "[ 0.12718784  0.22222949  0.13054953 -0.07483107  0.3383434  -0.10587593\n",
            " -0.18588081  0.13144464 -0.17431351  0.26225842]\n",
            "Итерационное решение:\n",
            "[-6.55425697e+138 -5.08479908e+138 -5.60523520e+138 -6.89118588e+138\n",
            " -2.98801620e+138 -4.28513942e+138 -3.30167707e+138 -3.83532658e+138\n",
            " -5.14834568e+138 -4.37911182e+138]\n",
            "501\n"
          ],
          "name": "stdout"
        }
      ]
    },
    {
      "cell_type": "markdown",
      "metadata": {
        "id": "L0QjrXV0fj7k"
      },
      "source": [
        "# Задание 4"
      ]
    },
    {
      "cell_type": "code",
      "metadata": {
        "id": "2rUTK4LPk8zz"
      },
      "source": [
        "def newton_iteration_t4(f, fder, x0, eps=1e-5, maxiter=100):\n",
        "    x = x0\n",
        "    niter = 0\n",
        "    while True:\n",
        "        xPrev = x\n",
        "        x = xPrev - f(xPrev)/fder(xPrev)\n",
        "        niter += 1\n",
        "        if (abs(x - xPrev) < eps or niter > maxiter):\n",
        "            break\n",
        "    return x"
      ],
      "execution_count": null,
      "outputs": []
    },
    {
      "cell_type": "code",
      "metadata": {
        "colab": {
          "base_uri": "https://localhost:8080/"
        },
        "id": "ICrbtPB4m3VN",
        "outputId": "bd75c738-00eb-439e-9c4f-593ee6011986"
      },
      "source": [
        "xx1 = newton_iteration_t4(lambda x: x**3 - 1, lambda x: 3.* x**2, x0 = complex(1,1))\n",
        "xx2 = newton_iteration_t4(lambda x: x**3 - 1, lambda x: 3.* x**2, x0 = complex(-1,1))\n",
        "xx3 = newton_iteration_t4(lambda x: x**3 - 1, lambda x: 3.* x**2, x0 = complex(-1,-1))\n",
        "print(xx1, xx2, xx3)"
      ],
      "execution_count": null,
      "outputs": [
        {
          "output_type": "stream",
          "text": [
            "(0.9999999999999994-4.556244651765188e-16j) (-0.4999999999999555+0.8660254037846933j) (-0.4999999999999555-0.8660254037846933j)\n"
          ],
          "name": "stdout"
        }
      ]
    },
    {
      "cell_type": "code",
      "metadata": {
        "colab": {
          "base_uri": "https://localhost:8080/",
          "height": 265
        },
        "id": "imW5CWg0dm20",
        "outputId": "5da6d085-5f9c-41c8-8ba3-aae7fd77a42f"
      },
      "source": [
        "import matplotlib.pyplot as plt\n",
        "from math import sqrt\n",
        "def distance(a, b):\n",
        "  return sqrt((a.imag - b.imag)**2 + (a.real - b.real)**2)\n",
        "\n",
        "\n",
        "for i in range(-50,50):\n",
        "    for j in range(-50,50):\n",
        "        if (i != 0 or j != 0):\n",
        "            xx = newton_iteration_t4(lambda x: x**3 - 1, lambda x: 3.* x**2, x0 = complex(i/40, j/40))\n",
        "            y,x = xx.imag, xx.real\n",
        "            plt.plot(x,y,'.r',ms=1)\n",
        "            if (distance(xx, xx1) < distance(xx1, xx2)/2 \n",
        "                and distance(xx, xx1) < distance(xx1, xx3)/2):\n",
        "                plt.plot(i/40,j/40,'*y',ms=2)\n",
        "            if (distance(xx, xx2) < distance(xx2, xx1)/2 \n",
        "                and distance(xx, xx2) < distance(xx2, xx3)/2):\n",
        "                plt.plot(i/40,j/40,'*b',ms=2)\n",
        "            if (distance(xx, xx3) < distance(xx3, xx2)/2 \n",
        "                and distance(xx, xx3) < distance(xx3, xx1)/2):\n",
        "                plt.plot(i/40,j/40,'*g',ms=2)\n",
        "plt.grid() \n",
        "plt.show()"
      ],
      "execution_count": null,
      "outputs": [
        {
          "output_type": "display_data",
          "data": {
            "image/png": "[encoded data removed]",
            "text/plain": [
              "<Figure size 432x288 with 1 Axes>"
            ]
          },
          "metadata": {
            "tags": [],
            "needs_background": "light"
          }
        }
      ]
    },
    {
      "cell_type": "code",
      "metadata": {
        "id": "kjyjhyfCkCqU"
      },
      "source": [
        ""
      ],
      "execution_count": null,
      "outputs": []
    }
  ]
}