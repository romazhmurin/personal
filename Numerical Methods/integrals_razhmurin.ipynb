{
  "nbformat": 4,
  "nbformat_minor": 0,
  "metadata": {
    "kernelspec": {
      "display_name": "Python 3",
      "language": "python",
      "name": "python3"
    },
    "language_info": {
      "codemirror_mode": {
        "name": "ipython",
        "version": 3
      },
      "file_extension": ".py",
      "mimetype": "text/x-python",
      "name": "python",
      "nbconvert_exporter": "python",
      "pygments_lexer": "ipython3",
      "version": "3.8.5"
    },
    "colab": {
      "name": "integrals_razhmurin.ipynb",
      "provenance": [],
      "collapsed_sections": [],
      "include_colab_link": true
    }
  },
  "cells": [
    {
      "cell_type": "markdown",
      "metadata": {
        "id": "view-in-github",
        "colab_type": "text"
      },
      "source": [
        "<a href=\"https://colab.research.google.com/github/RomaZhm/ColabNotes/blob/main/integrals_razhmurin.ipynb\" target=\"_parent\"><img src=\"https://colab.research.google.com/assets/colab-badge.svg\" alt=\"Open In Colab\"/></a>"
      ]
    },
    {
      "cell_type": "markdown",
      "metadata": {
        "id": "rA4dDyEXYEDV"
      },
      "source": [
        "Before you turn this problem in, make sure everything runs as expected. First, **restart the kernel** (in the menubar, select Kernel$\\rightarrow$Restart) and then **run all cells** (in the menubar, select Cell$\\rightarrow$Run All).\n",
        "\n",
        "Make sure you fill in any place that says `YOUR CODE HERE` or \"YOUR ANSWER HERE\", as well as your name and collaborators below:"
      ]
    },
    {
      "cell_type": "code",
      "metadata": {
        "id": "cc8s6SWTYEDY"
      },
      "source": [
        "NAME = \"Zhmurin Roman\"\n",
        "COLLABORATORS = \"razhmurin@edu.hse.ru\""
      ],
      "execution_count": null,
      "outputs": []
    },
    {
      "cell_type": "markdown",
      "metadata": {
        "id": "ant9dTPhYEDZ"
      },
      "source": [
        "---"
      ]
    },
    {
      "cell_type": "markdown",
      "metadata": {
        "deletable": false,
        "editable": false,
        "nbgrader": {
          "cell_type": "markdown",
          "checksum": "76725925c1c2a3fda23efe2691cfa949",
          "grade": false,
          "grade_id": "cell-4d48d7afa1c0c5b4",
          "locked": true,
          "schema_version": 3,
          "solution": false,
          "task": false
        },
        "id": "oTLaNB-2YEDZ"
      },
      "source": [
        "# Вычисление определенных интегралов"
      ]
    },
    {
      "cell_type": "markdown",
      "metadata": {
        "deletable": false,
        "editable": false,
        "nbgrader": {
          "cell_type": "markdown",
          "checksum": "9a9c3cddcc11d2a8cc7f46935462ad6d",
          "grade": false,
          "grade_id": "cell-fc379192341494d5",
          "locked": true,
          "schema_version": 3,
          "solution": false,
          "task": false
        },
        "id": "bcB35sPVYEDa"
      },
      "source": [
        "## I. Двухточечная квадратура Гаусса\n",
        "\n",
        "Постройте квадратурную формулу Гаусса, интегрирующую точно многочлены степеней вплоть до третьей на интервале $[a, b]$. Заметим, что для этого достаточно построить _двухточечную_ квадратуру.\n",
        "\n",
        "Напишите функцию, которая возвращает веса, $w_1$ и $w_2$, и узлы, $x_1$ и $x_2$, двухточечной квадратурной формулы Гаусса с весовой функцией $w(x) = 1$, т.е., интегралы вида\n",
        "\n",
        "$$\n",
        "\\int_a^b\\! f(x)\\, dx \\approx w_1 f(x_1) + w_2 f(x_2)\n",
        "$$"
      ]
    },
    {
      "cell_type": "code",
      "metadata": {
        "id": "YBXGe3Ap2PqV"
      },
      "source": [
        "import numpy as np\n",
        "\n",
        "def gauss_2(a, b):\n",
        "    \"\"\"Return nodes and weights for a two-point Gauss quadrature on [a, b].\n",
        "    \n",
        "    Parameters\n",
        "    ----------\n",
        "    a, b : float\n",
        "       Boundaries of the integration interval\n",
        "       \n",
        "    Returns\n",
        "    -------\n",
        "    x1, x2, w1, w2 : float\n",
        "       Nodes and weights of the quadrature.\n",
        "    \"\"\"\n",
        "    a1 = - 1/np.sqrt(3)\n",
        "    a2 = 1/np.sqrt(3)\n",
        "    w1, w2 = (b - a)/2, (b - a)/2\n",
        "    x1 = (b - a)*a1 / 2 + (b + a) / 2\n",
        "    x2 = (b - a)*a2 / 2 + (b + a) / 2\n",
        "    return x1, x2, w1, w2"
      ],
      "execution_count": null,
      "outputs": []
    },
    {
      "cell_type": "code",
      "metadata": {
        "deletable": false,
        "editable": false,
        "nbgrader": {
          "cell_type": "code",
          "checksum": "0359e8b293f2fb6d01a58c9fedf8394d",
          "grade": true,
          "grade_id": "cell-b6739a7f6045a9ec",
          "locked": true,
          "points": 5,
          "schema_version": 3,
          "solution": false,
          "task": false
        },
        "id": "Y8V3CqI7YEDa"
      },
      "source": [
        "from numpy.testing import assert_allclose\n",
        "\n",
        "x1, x2, w1, w2 = gauss_2(0, 1)\n",
        "\n",
        "def f(x, n): \n",
        "    return x**n\n",
        "\n",
        "for n in [0, 1, 2, 3]:\n",
        "    assert_allclose(w1*f(x1, n=n) + w2*f(x2, n=n),\n",
        "                    1./(n+1), atol=1e-14)"
      ],
      "execution_count": null,
      "outputs": []
    },
    {
      "cell_type": "markdown",
      "metadata": {
        "deletable": false,
        "editable": false,
        "nbgrader": {
          "cell_type": "markdown",
          "checksum": "f0b361e7c3254cdb24248df735a6a6ef",
          "grade": false,
          "grade_id": "cell-08fc4ae6160d61c1",
          "locked": true,
          "schema_version": 3,
          "solution": false,
          "task": false
        },
        "id": "n8ndtRScYEDb"
      },
      "source": [
        "## II. Вычитание интегрируемых сингулярностей\n",
        "\n",
        "\n",
        "Вычислите определённый интеграл методом трапеций с вычитанием сингулярности\n",
        "\n",
        "$$\n",
        "I = \\int_{0}^{1}\\frac{e^x}{\\sqrt{x(1-x)}}dx.\n",
        "$$\n",
        "\n",
        "Вам могут пригодиться значения следующих определенных интегралов:\n",
        "\n",
        "$$\n",
        "\\int_0^1 \\frac{1}{\\sqrt{x (1-x)}} \\, dx=\\pi,\\quad \\int_0^1 \\frac{x}{\\sqrt{x (1-x)}} \\, dx=\\pi/2.\n",
        "$$"
      ]
    },
    {
      "cell_type": "markdown",
      "metadata": {
        "id": "bMWmj7uIYEDb"
      },
      "source": [
        "Преобразуйте данный интеграл, вычитая сингулярности. Выпишите расчетные формулы.\n",
        "(5 баллов, защита)"
      ]
    },
    {
      "cell_type": "markdown",
      "metadata": {
        "deletable": false,
        "editable": false,
        "nbgrader": {
          "cell_type": "markdown",
          "checksum": "85546100a8f30436f5555da4da442cca",
          "grade": false,
          "grade_id": "cell-6c554eec0b99fcb4",
          "locked": true,
          "schema_version": 3,
          "solution": false,
          "task": false
        },
        "id": "VF54oIyRYEDb"
      },
      "source": [
        "Cоставьте функцию, возвращающую значение интеграла методом трапеций."
      ]
    },
    {
      "cell_type": "code",
      "metadata": {
        "id": "sY7MEa7hzC0x"
      },
      "source": [
        "from math import sqrt, e\n",
        "def integ(npts=10):\n",
        "    b = 1\n",
        "    a = 0\n",
        "    func = (lambda x: (np.exp(x) - 1 - x) / sqrt(x*(1 - x)))\n",
        "    func_0 = (lambda x: (x ** (3/2)) / 2)\n",
        "    #func_1 = (lambda x: e*sqrt(1 - x)/sqrt(x) + (e * (1 - x) ** (3/2))/(2 * sqrt(x)))\n",
        "    func_1 = (lambda x: e*sqrt(1-x)/2 + ((3*e - 2)*(1-x)**(3/2))/8 - ((e - 12)*(1-x)**(5/2))/48)\n",
        "    h = (b - a) / npts\n",
        "    I1_0 = (func_0(a + h) + func_0(a)) * h / 2\n",
        "    I1_1 = (func_1(b) + func_1(b - h)) * h / 2\n",
        "    I1 = I1_0\n",
        "    I2 = np.pi + np.pi/2\n",
        "    for j in range(2, npts):\n",
        "        x_c = a + h * j\n",
        "        x_p = x_c - h\n",
        "        I1 += (func(x_p) + func(x_c)) * h / 2\n",
        "    I = I1 + I2\n",
        "    return I\n"
      ],
      "execution_count": null,
      "outputs": []
    },
    {
      "cell_type": "code",
      "metadata": {
        "colab": {
          "base_uri": "https://localhost:8080/"
        },
        "id": "Kid9lWnTHAXv",
        "outputId": "b6481995-8743-42f2-993e-eb655e1d8014"
      },
      "source": [
        "from scipy.integrate import quad\n",
        "f = (lambda x: np.exp(x)/ np.sqrt(x*(1 - x)))\n",
        "for n in [1000, 10000, 100000, 50000000]:\n",
        "    print(n, ':', integ(npts = n), quad(f, 0, 1,))"
      ],
      "execution_count": null,
      "outputs": [
        {
          "output_type": "stream",
          "text": [
            "1000 : 5.463932564208847 (5.5084297738863635, 2.04049488417013e-09)\n",
            "10000 : 5.494349865751378 (5.5084297738863635, 2.04049488417013e-09)\n",
            "100000 : 5.503977042180681 (5.5084297738863635, 2.04049488417013e-09)\n",
            "50000000 : 5.508230640312696 (5.5084297738863635, 2.04049488417013e-09)\n"
          ],
          "name": "stdout"
        }
      ]
    },
    {
      "cell_type": "code",
      "metadata": {
        "deletable": false,
        "editable": false,
        "nbgrader": {
          "cell_type": "code",
          "checksum": "6d0b77bbebc9c1ead838b263af7ac7ae",
          "grade": true,
          "grade_id": "cell-e24dd8dc92f2c8bd",
          "locked": true,
          "points": 5,
          "schema_version": 3,
          "solution": false,
          "task": false
        },
        "id": "_WyQ0M2LYEDc"
      },
      "source": [
        "# this is a test to check your computed value\n",
        "from numpy.testing import assert_allclose\n",
        "f = (lambda x: np.exp(x)/ np.sqrt(x*(1 - x)))\n",
        "for n in [5, 10, 100, 1000]:\n",
        "    assert_allclose(integ(npts = n),\n",
        "                    quad(f, 0, 1)[0], atol=50/n)"
      ],
      "execution_count": null,
      "outputs": []
    },
    {
      "cell_type": "markdown",
      "metadata": {
        "deletable": false,
        "editable": false,
        "nbgrader": {
          "cell_type": "markdown",
          "checksum": "ba059a5eaf1c17a3aa3e98590a0a6f9b",
          "grade": false,
          "grade_id": "cell-70721ae1c137e72e",
          "locked": true,
          "schema_version": 3,
          "solution": false,
          "task": false
        },
        "id": "dTcofaBHYEDc"
      },
      "source": [
        "## III. Интеграл от осциллирующей функции\n",
        "\n",
        "Рассмотрим определенный интеграл\n",
        "\n",
        "$$\n",
        "I = \\int_0^\\infty\\! \\frac{\\sin(x) \\cos{(\\cos{(x)})}}{x}\\,dx\n",
        "$$\n",
        "\n",
        "Вычислите значение данного интеграла с относительной точностью $10^{-6}$. Для упрощения задачи можете воспользоваться функционалом `scipy.integrate.quad`.\n",
        "\n",
        "Заметим, что \"из коробки\" интеграл вычислить не удается, и нужно что-то придумать."
      ]
    },
    {
      "cell_type": "code",
      "metadata": {
        "deletable": false,
        "editable": false,
        "nbgrader": {
          "cell_type": "code",
          "checksum": "11f9ea8995c2fc47c6518788c1e3a53b",
          "grade": false,
          "grade_id": "cell-515f8f19764eb256",
          "locked": true,
          "schema_version": 3,
          "solution": false,
          "task": false
        },
        "id": "qr66clNJYEDc",
        "colab": {
          "base_uri": "https://localhost:8080/"
        },
        "outputId": "c7d2d112-cc32-4133-e75e-1dc6bc3ab449"
      },
      "source": [
        "from math import sin, cos, pi\n",
        "\n",
        "from scipy.integrate import quad\n",
        "quad(lambda x: sin(x) * cos(cos(x)) / x, 0, float('inf'))"
      ],
      "execution_count": null,
      "outputs": [
        {
          "output_type": "stream",
          "text": [
            "/usr/local/lib/python3.7/dist-packages/ipykernel_launcher.py:4: IntegrationWarning: The integral is probably divergent, or slowly convergent.\n",
            "  after removing the cwd from sys.path.\n"
          ],
          "name": "stderr"
        },
        {
          "output_type": "execute_result",
          "data": {
            "text/plain": [
              "(1.9653912540956746, 4.089174284042278)"
            ]
          },
          "metadata": {
            "tags": []
          },
          "execution_count": 181
        }
      ]
    },
    {
      "cell_type": "markdown",
      "metadata": {
        "deletable": false,
        "editable": false,
        "nbgrader": {
          "cell_type": "markdown",
          "checksum": "53e2ba2b52667aada8dc1a7f43391ef4",
          "grade": false,
          "grade_id": "cell-e34178c9823af271",
          "locked": true,
          "schema_version": 3,
          "solution": false,
          "task": false
        },
        "id": "vMv5DRSIYEDd"
      },
      "source": [
        "Напишите функцию, которая возвращает значение данного интеграла. Только само значение интеграла, без оценки погрешности.\n",
        "(оборачиваем интеграл в функцию только для удобства автопроверки)."
      ]
    },
    {
      "cell_type": "code",
      "metadata": {
        "deletable": false,
        "nbgrader": {
          "cell_type": "code",
          "checksum": "f9fa2326b0f5d084ce9385ccd5a2fbd7",
          "grade": false,
          "grade_id": "cell-ddd4e0b6d148fcfd",
          "locked": false,
          "schema_version": 3,
          "solution": true,
          "task": false
        },
        "id": "TCafldoyYEDe"
      },
      "source": [
        "from scipy.integrate import quad\n",
        "import mpmath as mp\n",
        "\n",
        "def trap(A, p, npts=10):\n",
        "    b = A\n",
        "    a = 0.000001\n",
        "    func = (lambda x: sin(p/x)*(x**3))\n",
        "    h = (b - a) / npts\n",
        "    I = 0\n",
        "    for j in range(1, npts + 1):\n",
        "        x_c = a + h * j\n",
        "        x_p = x_c - h\n",
        "        I += (func(x_p) + func(x_c)) * h / 2\n",
        "    return I\n",
        "\n",
        "def integ():\n",
        "    \"\"\"Return a single float, the computed value of the integral.\"\"\"\n",
        "    A = pi/2 + 1/654\n",
        "    I1 = sin(cos(A))/A\n",
        "    I2_sub = [-sin(A)/A**2 + 2*cos(A)/A**3 + 6*sin(A)/A**4 + 24 * trap(1/A, p = 1, npts = 10000),\n",
        "    sin(3*A)/(3*A**2) - 2*cos(3*A)/(9*A**3) - 2*sin(3*A)/(9*A**4) - 8 * trap(1/A, p = 3, npts = 10000)/9,\n",
        "    -sin(5*A)/(5*A**2) + 2*cos(5*A)/(25*A**3) + 6*sin(5*A)/(125*A**4) + 24 * trap(1/A, p = 5, npts = 10000)/125,\n",
        "    sin(7*A)/(7*A**2) - 2*cos(7*A)/(49*A**3) - 6*sin(7*A)/(343*A**4) - 24 * trap(1/A, p = 7, npts = 10000)/343]\n",
        "    I2 = 0\n",
        "    for k in range(1, 5):\n",
        "        I2 += 2 * mp.besselj((2*k - 1), 1) * I2_sub[k-1]\n",
        "    I = I1 + I2\n",
        "    return I\n",
        "\n",
        "    "
      ],
      "execution_count": null,
      "outputs": []
    },
    {
      "cell_type": "code",
      "metadata": {
        "colab": {
          "base_uri": "https://localhost:8080/"
        },
        "id": "0T_if0DDDlum",
        "outputId": "635db246-500b-4513-f548-7bb27d1d6270"
      },
      "source": [
        "print(integ())"
      ],
      "execution_count": null,
      "outputs": [
        {
          "output_type": "stream",
          "text": [
            "1.18634521645079\n"
          ],
          "name": "stdout"
        }
      ]
    },
    {
      "cell_type": "code",
      "metadata": {
        "deletable": false,
        "editable": false,
        "nbgrader": {
          "cell_type": "code",
          "checksum": "28f736930b29b8de099e68693bd5f160",
          "grade": true,
          "grade_id": "cell-b341c2ce36bc957d",
          "locked": true,
          "points": 10,
          "schema_version": 3,
          "solution": false,
          "task": false
        },
        "id": "7dfhsNqaYEDe"
      },
      "source": [
        "from numpy.testing import assert_allclose\n",
        "# this is a test cell, keep it intact"
      ],
      "execution_count": null,
      "outputs": []
    },
    {
      "cell_type": "code",
      "metadata": {
        "id": "qf7dL34DA0Rc"
      },
      "source": [
        ""
      ],
      "execution_count": null,
      "outputs": []
    }
  ]
}