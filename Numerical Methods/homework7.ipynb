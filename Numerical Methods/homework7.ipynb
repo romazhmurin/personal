{
  "nbformat": 4,
  "nbformat_minor": 0,
  "metadata": {
    "colab": {
      "name": "homework7.ipynb",
      "provenance": [],
      "authorship_tag": "ABX9TyMTG7uNdus7TxlVV+FXHcbc",
      "include_colab_link": true
    },
    "kernelspec": {
      "name": "python3",
      "display_name": "Python 3"
    },
    "language_info": {
      "name": "python"
    }
  },
  "cells": [
    {
      "cell_type": "markdown",
      "metadata": {
        "id": "view-in-github",
        "colab_type": "text"
      },
      "source": [
        "<a href=\"https://colab.research.google.com/github/RomaZhm/ColabNotes/blob/main/homework7.ipynb\" target=\"_parent\"><img src=\"https://colab.research.google.com/assets/colab-badge.svg\" alt=\"Open In Colab\"/></a>"
      ]
    },
    {
      "cell_type": "code",
      "metadata": {
        "id": "fj1zqyEt63Tm"
      },
      "source": [
        "from math import sqrt\n",
        "import numpy as np\n",
        "import matplotlib.pyplot as plt\n",
        "\n",
        "def implicit_euler_solve(u0, T, dt):\n",
        "    num_steps = int(T/dt)\n",
        "    tt = np.arange(num_steps+1)*dt\n",
        "    y = np.empty(num_steps+1)\n",
        "    y[0] = u0\n",
        "    for k in range(num_steps):\n",
        "        y[k+1] = (y[k] + sqrt(y[k]**2 + 4 * dt)) / 2\n",
        "    return tt, y\n",
        "\n",
        "def sol(t):\n",
        "    return sqrt(2 * t + 1)"
      ],
      "execution_count": null,
      "outputs": []
    },
    {
      "cell_type": "code",
      "metadata": {
        "colab": {
          "base_uri": "https://localhost:8080/",
          "height": 265
        },
        "id": "VOWfk4T-7XQ1",
        "outputId": "dab915d9-20c3-430d-acc2-2c0a704d4bbd"
      },
      "source": [
        "tt, y = implicit_euler_solve(u0=1.0, T=5, dt=0.1)\n",
        "solved = np.vectorize(sol)\n",
        "\n",
        "plt.plot(tt, y, 'o--', label='numeric solution')\n",
        "plt.plot(tt, solved(tt), '-', lw=2, label='true solution')\n",
        "plt.legend(loc='best')\n",
        "plt.grid(True)"
      ],
      "execution_count": null,
      "outputs": [
        {
          "output_type": "display_data",
          "data": {
            "image/png": "[encoded data removed]",
            "text/plain": [
              "<Figure size 432x288 with 1 Axes>"
            ]
          },
          "metadata": {
            "tags": [],
            "needs_background": "light"
          }
        }
      ]
    },
    {
      "cell_type": "code",
      "metadata": {
        "id": "WNX9cKgI8uLA"
      },
      "source": [
        ""
      ],
      "execution_count": null,
      "outputs": []
    }
  ]
}