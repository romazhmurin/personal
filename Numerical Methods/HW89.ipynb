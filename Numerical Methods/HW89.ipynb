{
  "nbformat": 4,
  "nbformat_minor": 0,
  "metadata": {
    "colab": {
      "name": "HW89.ipynb",
      "provenance": [],
      "collapsed_sections": []
    },
    "kernelspec": {
      "name": "python3",
      "display_name": "Python 3"
    },
    "language_info": {
      "name": "python"
    }
  },
  "cells": [
    {
      "cell_type": "markdown",
      "metadata": {
        "id": "3SIZC2Ps4Kuk"
      },
      "source": [
        "# Задание 1"
      ]
    },
    {
      "cell_type": "code",
      "metadata": {
        "id": "u8S7c8OLnsXt"
      },
      "source": [
        "import numpy as np\n",
        "from scipy.optimize import minimize\n",
        "import matplotlib.pyplot as plt\n",
        "import seaborn as sns\n",
        "from scipy import integrate\n",
        "from math import pi, sqrt"
      ],
      "execution_count": 207,
      "outputs": []
    },
    {
      "cell_type": "code",
      "metadata": {
        "id": "B_gUN5O4o0QE"
      },
      "source": [
        "def f(x, a):\n",
        "    x = np.asarray(x, dtype = float)\n",
        "    a_0 = a[0]\n",
        "    a = np.asarray(a[1:], dtype = float)\n",
        "    res = 1/(np.exp(a_0 + np.dot(x, a)) + 1)\n",
        "    return res\n",
        "\n",
        "def f_obj(a, f, X, y):\n",
        "    n = len(y)\n",
        "    return np.sum(np.square([(f(X[i], a) - y[i]) for i in range(n)]))"
      ],
      "execution_count": 208,
      "outputs": []
    },
    {
      "cell_type": "code",
      "metadata": {
        "colab": {
          "base_uri": "https://localhost:8080/"
        },
        "id": "11UActdmo9Dv",
        "outputId": "682d4468-af26-43c4-dd82-9a0a801e5dae"
      },
      "source": [
        "data = np.load('data_89.npz')\n",
        "y = data['y2']\n",
        "X = data['A2']\n",
        "n = np.shape(X)[1]\n",
        "a0 = np.random.random(size = len(X[0]) + 1)\n",
        "a_min = minimize(f_obj, a0, args = (f, X, y)).x\n",
        "print('Вектор а_min, где целлевая функция f_obj минимальная:\\n', a_min)\n",
        "print('f_obj(a_min)=', \"%.5f\" % f_obj(a_min, f, X, y),' < ', \n",
        "      \"%.5f\" % f_obj(a_min + 0.01, f, X, y), '=f_obj(a_min + 0.01)', sep = '')\n",
        "print('f_obj(a_min - 0.01)=', \"%.5f\" % f_obj(a_min + 0.01, f, X, y),' > ',\n",
        "      \"%.5f\" % f_obj(a_min, f, X, y), '=f_obj(a_min)', sep = '')"
      ],
      "execution_count": 209,
      "outputs": [
        {
          "output_type": "stream",
          "text": [
            "Вектор а_min, где целлевая функция f_obj минимальная:\n",
            " [ 0.58419754  0.32174933 -0.11369635  1.99877873 -0.31961172 -0.28386644\n",
            " -0.35980961 -0.02177467  0.00974514  1.53320617 -0.59544787]\n",
            "f_obj(a_min)=0.04355 < 0.04392=f_obj(a_min + 0.01)\n",
            "f_obj(a_min - 0.01)=0.04392 > 0.04355=f_obj(a_min)\n"
          ],
          "name": "stdout"
        }
      ]
    },
    {
      "cell_type": "markdown",
      "metadata": {
        "id": "_TpO1Du04OrK"
      },
      "source": [
        "# Задание 2"
      ]
    },
    {
      "cell_type": "code",
      "metadata": {
        "id": "m28LG-XUpIDH"
      },
      "source": [
        "def deriv(fun, x_prev, f, X, y, i, h):\n",
        "    a_n = np.copy(x_prev)\n",
        "    a_n[i] = a_n[i] + h\n",
        "    f0 = fun(x_prev, f, X, y)\n",
        "    f1 = fun(a_n, f, X, y)\n",
        "    df = f1 - f0\n",
        "    return df / h\n",
        "\n",
        "def antigrad(fun, x_prev, f, X, y):\n",
        "    grad = np.asarray([deriv(fun, x_prev, f, X, y, i, h = 0.0000001) \n",
        "                        for i in range(len(x_prev))], dtype=float)\n",
        "    return -1 * grad\n",
        "\n",
        "def grad_boost(fun, f, X, y, a0, gamma = 0.01):\n",
        "    x_next = a0\n",
        "    eps = 0.0001\n",
        "    i = 0\n",
        "    while True:\n",
        "        x_prev = x_next\n",
        "        x_next = x_prev + gamma * antigrad(fun, x_prev, f, X, y)\n",
        "        if (abs(fun(x_next, f, X, y) - fun(x_prev, f, X, y)) <= eps) or (i >= 1000):\n",
        "            break\n",
        "        i += 1\n",
        "    a_min = x_next\n",
        "    return a_min, i\n"
      ],
      "execution_count": 210,
      "outputs": []
    },
    {
      "cell_type": "code",
      "metadata": {
        "colab": {
          "base_uri": "https://localhost:8080/"
        },
        "id": "ZhJUwqzWJbia",
        "outputId": "29d2d805-effc-434b-9fa3-cd016224f0a5"
      },
      "source": [
        "a0 = np.random.random(size = len(X[0]) + 1)\n",
        "gamma = 0.7\n",
        "a_min, Nit = grad_boost(f_obj, f, X, y, a0, gamma = gamma)\n",
        "print('gamma =', gamma, 'Nit = ', Nit)\n",
        "print('a_min = ', a_min)\n",
        "print('f_obj(a_min) = %.5f' %f_obj(a_min, f, X, y))"
      ],
      "execution_count": 221,
      "outputs": [
        {
          "output_type": "stream",
          "text": [
            "gamma = 0.7 Nit =  29\n",
            "a_min =  [ 0.54019803  0.32107743 -0.05555437  1.87860987 -0.2811676  -0.26294622\n",
            " -0.3297889  -0.05707854  0.03428188  1.48343942 -0.55489206]\n",
            "f_obj(a_min) = 0.04431\n"
          ],
          "name": "stdout"
        }
      ]
    },
    {
      "cell_type": "markdown",
      "metadata": {
        "id": "VBnw49rgskx2"
      },
      "source": [
        "# Задание 3"
      ]
    },
    {
      "cell_type": "code",
      "metadata": {
        "id": "EGgulUdjJ8Cv"
      },
      "source": [
        "def ksi_arr(lambd = 0.5, n = 1000):\n",
        "    gamma = np.random.random(n)\n",
        "    ksi = np.log(gamma) / -lambd\n",
        "    return ksi"
      ],
      "execution_count": 222,
      "outputs": []
    },
    {
      "cell_type": "code",
      "metadata": {
        "id": "Hps82_alwrYn"
      },
      "source": [
        "def f(x, lambd = 0.5):\n",
        "    return lambd * np.exp(-lambd*x)"
      ],
      "execution_count": 223,
      "outputs": []
    },
    {
      "cell_type": "code",
      "metadata": {
        "colab": {
          "base_uri": "https://localhost:8080/",
          "height": 265
        },
        "id": "cd_jbOtpRXK3",
        "outputId": "beee5a46-fcfd-439d-b7ff-ab20513f663b"
      },
      "source": [
        "N = 10000\n",
        "l = 0.5\n",
        "ksi = ksi_arr(lambd = l, n = N)\n",
        "X = np.linspace(0, 20, N)\n",
        "Y = f(X, l)\n",
        "\n",
        "n_bins = np.sqrt(N).astype(int)\n",
        "plt.plot(X, Y)\n",
        "plt.hist(ksi, bins = n_bins, density = True)\n",
        "plt.show()"
      ],
      "execution_count": 224,
      "outputs": [
        {
          "output_type": "display_data",
          "data": {
            "image/png": "[encoded data removed]",
            "text/plain": [
              "<Figure size 432x288 with 1 Axes>"
            ]
          },
          "metadata": {
            "tags": [],
            "needs_background": "light"
          }
        }
      ]
    },
    {
      "cell_type": "markdown",
      "metadata": {
        "id": "sOS3oY1a2s1t"
      },
      "source": [
        "По гистограмме видно, что плостность распределения смоделированной величины соответствует реальной плотности\n",
        "Смоделируем величину с меньшей выборкой:"
      ]
    },
    {
      "cell_type": "code",
      "metadata": {
        "colab": {
          "base_uri": "https://localhost:8080/",
          "height": 265
        },
        "id": "eBm8COl82UGM",
        "outputId": "8332cf4d-6179-4b1b-872d-e6b492746c95"
      },
      "source": [
        "N = 1000\n",
        "l = 0.5\n",
        "ksi = ksi_arr(lambd = l, n = N)\n",
        "X = np.linspace(0, 20, N)\n",
        "Y = f(X, l)\n",
        "\n",
        "n_bins = np.sqrt(N).astype(int)\n",
        "plt.plot(X, Y)\n",
        "plt.hist(ksi, bins = n_bins, density = True)\n",
        "plt.show()"
      ],
      "execution_count": 225,
      "outputs": [
        {
          "output_type": "display_data",
          "data": {
            "image/png": "[encoded data removed]",
            "text/plain": [
              "<Figure size 432x288 with 1 Axes>"
            ]
          },
          "metadata": {
            "tags": [],
            "needs_background": "light"
          }
        }
      ]
    },
    {
      "cell_type": "code",
      "metadata": {
        "colab": {
          "base_uri": "https://localhost:8080/",
          "height": 265
        },
        "id": "mnpXkQgA2WKx",
        "outputId": "e14c16fb-1289-4f3c-8a83-856040a9ae01"
      },
      "source": [
        "N = 100\n",
        "l = 0.5\n",
        "ksi = ksi_arr(lambd = l, n = N)\n",
        "X = np.linspace(0, 20, N)\n",
        "Y = f(X, l)\n",
        "\n",
        "n_bins = np.sqrt(N).astype(int)\n",
        "plt.plot(X, Y )\n",
        "plt.hist(ksi, bins = n_bins, density = True)\n",
        "plt.show()"
      ],
      "execution_count": 229,
      "outputs": [
        {
          "output_type": "display_data",
          "data": {
            "image/png": "[encoded data removed]",
            "text/plain": [
              "<Figure size 432x288 with 1 Axes>"
            ]
          },
          "metadata": {
            "tags": [],
            "needs_background": "light"
          }
        }
      ]
    },
    {
      "cell_type": "markdown",
      "metadata": {
        "id": "1-vcvepjVVUe"
      },
      "source": [
        "Проверка гипотезы об экспотенциальном распределении"
      ]
    },
    {
      "cell_type": "code",
      "metadata": {
        "id": "FQ6JHfgk2CX6",
        "colab": {
          "base_uri": "https://localhost:8080/"
        },
        "outputId": "2255fb57-b5a0-45ed-9be7-20262ab73cb3"
      },
      "source": [
        "N = 10000\n",
        "l = 0.5\n",
        "ksi = ksi_arr(lambd = l, n = N)\n",
        "X = np.linspace(0, 20, N)\n",
        "Y = f(X, l)\n",
        "\n",
        "num_steps = np.ceil(np.power(N, 1/3)).astype(int)\n",
        "step = (10 - 0) / num_steps\n",
        "ksi = np.sort(ksi)\n",
        "Y = np.sort(Y)\n",
        "intervals = np.arange(0, 10, step)\n",
        "pred_E = np.histogram(ksi, bins=intervals, density = True)[0]\n",
        "real_E = np.asarray([integrate.quad(f, intervals[i], intervals[i + 1])[0] \n",
        "                          for i in range(num_steps - 1)])\n",
        "xi = np.sum([((real_E[j] - pred_E[j])**2)/real_E[j] for j in range(num_steps - 1)])\n",
        "print('Число степеней свободы:', len(real_E) - 1, 'Найденное значение кси-квадрат %.2f ' % xi)\n",
        "print('Из таблицы, значение кси-квадрат с 20 степенью свобод и уровнем значимости 0.95: 31,4104')\n",
        "print('Полученное значени кси-квадрат меньше табличного, значит гипотеза об экспотенциальном распределении принимается')\n",
        "print('p-value для кси-квадрат = 1.48 и 20 степенями свободы равно 0.999 => частоты очень хорошо согласуются')"
      ],
      "execution_count": 231,
      "outputs": [
        {
          "output_type": "stream",
          "text": [
            "Число степеней свободы: 20 Найденное значение кси-квадрат 1.48 \n",
            "Из таблицы, значение кси-квадрат с 20 степенью свобод и уровнем значимости 0.95: 31,4104\n",
            "Полученное значени кси-квадрат меньше табличного, значит гипотеза об экспотенциальном распределении принимается\n",
            "p-value для кси-квадрат = 1.48 и 20 степенями свободы равно 0.999 => частоты очень хорошо согласуются\n"
          ],
          "name": "stdout"
        }
      ]
    },
    {
      "cell_type": "markdown",
      "metadata": {
        "id": "ijGmVkQhwN4A"
      },
      "source": [
        "Проверяем наши вычисления библиотечной функцией:"
      ]
    },
    {
      "cell_type": "code",
      "metadata": {
        "colab": {
          "base_uri": "https://localhost:8080/"
        },
        "id": "CWnyH9hLWxNM",
        "outputId": "543c5b28-9b70-4c39-e90c-99eb9d2efec6"
      },
      "source": [
        "from scipy.stats import chisquare\n",
        "print((chisquare(pred_E, real_E)))"
      ],
      "execution_count": 232,
      "outputs": [
        {
          "output_type": "stream",
          "text": [
            "Power_divergenceResult(statistic=1.4833428056373508, pvalue=0.9999999929143507)\n"
          ],
          "name": "stdout"
        }
      ]
    },
    {
      "cell_type": "markdown",
      "metadata": {
        "id": "CV3Je3A4w1Au"
      },
      "source": [
        "# Задание 4"
      ]
    },
    {
      "cell_type": "code",
      "metadata": {
        "id": "ktqLUojmq5K3"
      },
      "source": [
        "def ksinorm_arr(n = 1000):\n",
        "    gamma = np.random.random(n)\n",
        "    phi = 2 * pi * np.random.random(n)\n",
        "    r = np.sqrt(-2 * np.log(gamma))\n",
        "    ksi = r * np.cos(phi)\n",
        "    return ksi\n",
        "\n",
        "def fnorm(x):\n",
        "    return np.exp((-x**2)/2)/sqrt(2 * pi)"
      ],
      "execution_count": 233,
      "outputs": []
    },
    {
      "cell_type": "code",
      "metadata": {
        "colab": {
          "base_uri": "https://localhost:8080/",
          "height": 265
        },
        "id": "pV94X5LR0-bZ",
        "outputId": "23e7da86-9b88-4331-9c5b-507443ceefe8"
      },
      "source": [
        "N = 100000\n",
        "\n",
        "ksi = ksinorm_arr(n = N)\n",
        "X = np.linspace(-5, 5, N)\n",
        "Y = fnorm(X)\n",
        "\n",
        "n_bins = np.power(N, 1/3).astype(int)\n",
        "plt.hist(ksi, bins = n_bins, density = True)\n",
        "plt.plot(X, Y)\n",
        "plt.show()"
      ],
      "execution_count": 234,
      "outputs": [
        {
          "output_type": "display_data",
          "data": {
            "image/png": "[encoded data removed]",
            "text/plain": [
              "<Figure size 432x288 with 1 Axes>"
            ]
          },
          "metadata": {
            "tags": [],
            "needs_background": "light"
          }
        }
      ]
    },
    {
      "cell_type": "markdown",
      "metadata": {
        "id": "3nXEGMlo3l0C"
      },
      "source": [
        "Проверка гипотезы о нормальном распределении"
      ]
    },
    {
      "cell_type": "code",
      "metadata": {
        "colab": {
          "base_uri": "https://localhost:8080/"
        },
        "id": "U5sXcpb21I_I",
        "outputId": "c4a3bae8-b134-439f-f68c-6224e62cd9c6"
      },
      "source": [
        "N = 50000\n",
        "l = 0.5\n",
        "ksi = ksinorm_arr(n = N)\n",
        "X = np.linspace(-3, 3, N)\n",
        "Y = fnorm(X)\n",
        "\n",
        "num_steps = np.ceil(np.power(N, 1/3)).astype(int)\n",
        "step = (3 - (-3)) / num_steps\n",
        "ksi = np.sort(ksi)\n",
        "Y = np.sort(Y)\n",
        "intervals = np.arange(-3, 3, step)\n",
        "pred_E = np.histogram(ksi, bins=intervals, density = True)[0]\n",
        "real_E = np.asarray([integrate.quad(fnorm, intervals[i], intervals[i + 1])[0] \n",
        "                          for i in range(num_steps - 1)])\n",
        "xi = np.sum([((real_E[j] - pred_E[j])**2)/real_E[j] for j in range(num_steps - 1)])\n",
        "print('Число степеней свободы:', len(real_E) - 1, 'Найденное значение кси-квадрат %.1f ' % xi)\n",
        "print('Из таблицы, значение кси-квадрат с 35 степенью свобод и уровнем значимости 0.95: 49.8018')\n",
        "print('Полученное значени кси-квадрат меньше табличного, значит гипотеза об экспотенциальном распределении принимается')\n",
        "print('p-value для кси-квадрат = 26.9 и 35 степенями свободы равно 0,8348 => частоты очень хорошо согласуются')"
      ],
      "execution_count": 235,
      "outputs": [
        {
          "output_type": "stream",
          "text": [
            "Число степеней свободы: 35 Найденное значение кси-квадрат 26.9 \n",
            "Из таблицы, значение кси-квадрат с 35 степенью свобод и уровнем значимости 0.95: 49.8018\n",
            "Полученное значени кси-квадрат меньше табличного, значит гипотеза об экспотенциальном распределении принимается\n",
            "p-value для кси-квадрат = 26.9 и 35 степенями свободы равно 0,8348 => частоты очень хорошо согласуются\n"
          ],
          "name": "stdout"
        }
      ]
    },
    {
      "cell_type": "markdown",
      "metadata": {
        "id": "8S2B-36I6R-X"
      },
      "source": [
        "Проверяем наши вычисления библиотечной функцией:"
      ]
    },
    {
      "cell_type": "code",
      "metadata": {
        "colab": {
          "base_uri": "https://localhost:8080/"
        },
        "id": "T4snHCWi5D3f",
        "outputId": "1124b4c4-cfe9-4513-8026-03547f03d09e"
      },
      "source": [
        "from scipy.stats import chisquare\n",
        "print((chisquare(pred_E, real_E)))"
      ],
      "execution_count": 236,
      "outputs": [
        {
          "output_type": "stream",
          "text": [
            "Power_divergenceResult(statistic=26.857168473499268, pvalue=0.8363447325732607)\n"
          ],
          "name": "stdout"
        }
      ]
    },
    {
      "cell_type": "markdown",
      "metadata": {
        "id": "1xmwrYq18A2s"
      },
      "source": [
        "# Задание 5"
      ]
    },
    {
      "cell_type": "code",
      "metadata": {
        "id": "2RSdgq54EwrS"
      },
      "source": [
        "def f_vec(x):\n",
        "    return 1 / (1 + np.sum(np.square(x)))"
      ],
      "execution_count": 237,
      "outputs": []
    },
    {
      "cell_type": "code",
      "metadata": {
        "colab": {
          "base_uri": "https://localhost:8080/"
        },
        "id": "1K7jT7bj8D_0",
        "outputId": "52262959-8d5d-482d-f3bc-b9f17867c7e1"
      },
      "source": [
        "A = np.asarray(data['A4'])\n",
        "L = np.linalg.eigh(A)[0]\n",
        "n = len(L)\n",
        "sigm = 1 / (2 * L)\n",
        "nu = np.zeros(n)\n",
        "N = 1000000\n",
        "print('Посчитаем интеграл 5 раз для N = %d' % N)\n",
        "for j in range(5):\n",
        "    sum = 0\n",
        "    for i in range(N):\n",
        "        xvec = np.random.normal(loc = nu, scale = sigm, size = n)\n",
        "        sum += f_vec(xvec)\n",
        "    integral = np.prod(np.sqrt(2 * pi * sigm)) * (sum / N)\n",
        "    print(integral)"
      ],
      "execution_count": 238,
      "outputs": [
        {
          "output_type": "stream",
          "text": [
            "Посчитаем интеграл 5 раз для N = 1000000\n",
            "0.42957587608706554\n",
            "0.42939019011606083\n",
            "0.42920016035258196\n",
            "0.42908631527784696\n",
            "0.4291571674484542\n"
          ],
          "name": "stdout"
        }
      ]
    },
    {
      "cell_type": "code",
      "metadata": {
        "colab": {
          "base_uri": "https://localhost:8080/"
        },
        "id": "PlEiZ-DkNQEM",
        "outputId": "1fd6e103-e5ce-43e9-a008-0cffaf3702fe"
      },
      "source": [
        "N = 10000\n",
        "print('Посчитаем интеграл 5 раз для N = %d' % N)\n",
        "for j in range(5):\n",
        "    sum = 0\n",
        "    for i in range(N):\n",
        "        xvec = np.random.normal(loc = nu, scale = sigm, size = n)\n",
        "        sum += f_vec(xvec)\n",
        "    integral = np.prod(np.sqrt(2 * pi * sigm)) * (sum / N)\n",
        "    print(integral)"
      ],
      "execution_count": 239,
      "outputs": [
        {
          "output_type": "stream",
          "text": [
            "Посчитаем интеграл 5 раз для N = 10000\n",
            "0.42658010101935884\n",
            "0.43620141112860283\n",
            "0.43141343279690286\n",
            "0.4292905748066346\n",
            "0.4312036504667951\n"
          ],
          "name": "stdout"
        }
      ]
    },
    {
      "cell_type": "markdown",
      "metadata": {
        "id": "mdEn7TQlM4t9"
      },
      "source": [
        "# Задание 6"
      ]
    },
    {
      "cell_type": "code",
      "metadata": {
        "id": "91-Y6Woe8TDd"
      },
      "source": [
        "def gauss_4(A, B):\n",
        "    a = np.asarray([0.8611363116, 0.3399810436, -0.3399810436, -0.8611363116])\n",
        "    w = np.asarray([0.3478548451/2, 0.6521451549/2, 0.6521451549/2, 0.3478548451/2])\n",
        "    x = (B - A)*a / 2 + (B + A) / 2\n",
        "    return x, w\n",
        "\n",
        "def phi_real(x):\n",
        "    return 10*np.sqrt(x)"
      ],
      "execution_count": 240,
      "outputs": []
    },
    {
      "cell_type": "code",
      "metadata": {
        "colab": {
          "base_uri": "https://localhost:8080/",
          "height": 282
        },
        "id": "9xpc7wlJqOYv",
        "outputId": "d611c0b7-6e84-480e-c9b6-abce7e754d30"
      },
      "source": [
        "y, w = gauss_4(0, 1)\n",
        "M = np.empty((4,4))\n",
        "N = 50\n",
        "for i in range(4):\n",
        "    for j in range(4):\n",
        "        if i == j:\n",
        "            M[i][j] = (1 - w[j]*sqrt(y[i]*y[j]))\n",
        "        else:\n",
        "            M[i][j] = -1 * w[j]*sqrt(y[i]*y[j])\n",
        "S = 5*np.sqrt(y)\n",
        "Y = np.linalg.solve(M, S)\n",
        "Phi = lambda x: np.sum([w[i]*np.sqrt(x)*np.sqrt(y[i])*Y[i] for i in range(4)]) + 5 * np.sqrt(x)\n",
        "X = np.linspace(0, 1000, N)\n",
        "Phi_est = np.asarray([Phi(x) for x in X])\n",
        "plt.plot(X, Phi_est, 'x')\n",
        "plt.plot(X, phi_real(X), '-')"
      ],
      "execution_count": 241,
      "outputs": [
        {
          "output_type": "execute_result",
          "data": {
            "text/plain": [
              "[<matplotlib.lines.Line2D at 0x7f8f524a9390>]"
            ]
          },
          "metadata": {
            "tags": []
          },
          "execution_count": 241
        },
        {
          "output_type": "display_data",
          "data": {
            "image/png": "[encoded data removed]",
            "text/plain": [
              "<Figure size 432x288 with 1 Axes>"
            ]
          },
          "metadata": {
            "tags": [],
            "needs_background": "light"
          }
        }
      ]
    },
    {
      "cell_type": "code",
      "metadata": {
        "id": "xdwXzluu1O0I"
      },
      "source": [
        ""
      ],
      "execution_count": null,
      "outputs": []
    }
  ]
}