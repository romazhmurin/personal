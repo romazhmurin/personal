{
  "nbformat": 4,
  "nbformat_minor": 0,
  "metadata": {
    "kernelspec": {
      "display_name": "Python 3",
      "language": "python",
      "name": "python3"
    },
    "language_info": {
      "codemirror_mode": {
        "name": "ipython",
        "version": 3
      },
      "file_extension": ".py",
      "mimetype": "text/x-python",
      "name": "python",
      "nbconvert_exporter": "python",
      "pygments_lexer": "ipython3",
      "version": "3.8.5"
    },
    "colab": {
      "provenance": []
    }
  },
  "cells": [
    {
      "cell_type": "markdown",
      "metadata": {
        "id": "8iv-yeAJ7um-"
      },
      "source": [
        "Before you turn this problem in, make sure everything runs as expected. First, **restart the kernel** (in the menubar, select Kernel$\\rightarrow$Restart) and then **run all cells** (in the menubar, select Cell$\\rightarrow$Run All).\n",
        "\n",
        "Make sure you fill in any place that says `YOUR CODE HERE` or \"YOUR ANSWER HERE\", as well as your name and collaborators below:"
      ]
    },
    {
      "cell_type": "code",
      "metadata": {
        "id": "Pz85LYqI7unB"
      },
      "source": [
        "NAME = \"Roman Zhmurin\"\n",
        "COLLABORATORS = \"razhmurin@edu.hse.ru\""
      ],
      "execution_count": null,
      "outputs": []
    },
    {
      "cell_type": "markdown",
      "metadata": {
        "id": "BMVDdgJG7unD"
      },
      "source": [
        "---"
      ]
    },
    {
      "cell_type": "code",
      "metadata": {
        "deletable": false,
        "editable": false,
        "nbgrader": {
          "cell_type": "code",
          "checksum": "05666cdfbea4d90e167692683629e516",
          "grade": false,
          "grade_id": "cell-dee318487c917c20",
          "locked": true,
          "schema_version": 3,
          "solution": false,
          "task": false
        },
        "id": "U7WT0dB67unD"
      },
      "source": [
        "import numpy as np\n",
        "from numpy.testing import assert_allclose\n",
        "from numpy import linalg as LA"
      ],
      "execution_count": null,
      "outputs": []
    },
    {
      "cell_type": "markdown",
      "metadata": {
        "deletable": false,
        "editable": false,
        "nbgrader": {
          "cell_type": "markdown",
          "checksum": "669a2dcb9b9e6f6c64579986fb9235df",
          "grade": false,
          "grade_id": "cell-00de4de4082aa444",
          "locked": true,
          "schema_version": 3,
          "solution": false,
          "task": false
        },
        "id": "iSG7V6E17unE"
      },
      "source": [
        "# 1. Степенная итерация"
      ]
    },
    {
      "cell_type": "markdown",
      "metadata": {
        "deletable": false,
        "editable": false,
        "nbgrader": {
          "cell_type": "markdown",
          "checksum": "9f430376dbbc28c66fa9ab28bcecb6ca",
          "grade": false,
          "grade_id": "cell-1a3077925e3e394b",
          "locked": true,
          "schema_version": 3,
          "solution": false,
          "task": false
        },
        "id": "Wt3L4AcX7unE"
      },
      "source": [
        "Дана квадратная $n \\times n$ матрица $A$. Алгоритм степенной итерации позволяет найти максимальное собственное значение $\\lambda$ матрицы $A$. Для начала необходимо задать начальное приближение собственного вектора $x_0$.\n",
        "\n",
        "\n",
        "Модифицированный алгоритм степенной итерации:\n",
        "\n",
        "1. $y_{k+1} = A x_k$\n",
        "\n",
        "2. $x_{k+1} = \\cfrac{y_{k+1}}{||y_{k+1}||}$\n",
        "\n",
        "3. $\\lambda^{(k)} = (x_k, y_{k+1})$\n",
        "\n",
        "где $k$ - номер итерации.\n",
        "\n",
        "Напишите функцию, реализующую поиск максимального собственного значения заданной матрицы с помощью алгоритма степенной итерации."
      ]
    },
    {
      "cell_type": "code",
      "metadata": {
        "deletable": false,
        "nbgrader": {
          "cell_type": "code",
          "checksum": "1a88dfc0f776e1d38fc4175d016cf5fc",
          "grade": false,
          "grade_id": "cell-3cfc4f5a0e04dc11",
          "locked": false,
          "schema_version": 3,
          "solution": true,
          "task": false
        },
        "id": "0vsxAoA-7unF"
      },
      "source": [
        "def power_iter(a, vec, eps=1e-3, maxiter=1000):\n",
        "    \"\"\"Реализует алгоритм степенной итерации поиска максимального собственного значения матрицы `a`\n",
        "        с начальным приближением собственного вектора vec.\n",
        "\n",
        "    Parameters\n",
        "    ----------\n",
        "    a : array-like of floats, shape (n, n)\n",
        "        Введённая матрица\n",
        "    vec : array-like of floats, shape (n,)\n",
        "        Введённое начальное приближение собственного вектора\n",
        "    eps : float\n",
        "        Введённая абсолютная точность\n",
        "    maxiter : integer\n",
        "        Максимальное количество итераций\n",
        "\n",
        "    Returns\n",
        "    -------\n",
        "    lm : float\n",
        "        Приближение максимального собственного значения\n",
        "    outvec : array of floats, shape (n,)\n",
        "        Приближение собственного вектора\n",
        "    iters : integer\n",
        "        Количество итераций\n",
        "    \"\"\"\n",
        "    a = np.asarray(a, dtype=float)\n",
        "    if a.ndim != 2:\n",
        "        raise ValueError(\"a.ndim = %s, expected 2\" % a.ndim)\n",
        "\n",
        "    vec = np.asarray(vec, dtype=float)\n",
        "    if vec.ndim != 1:\n",
        "        raise ValueError(\"vec.ndim = %s, expected 1\" % vec.ndim)\n",
        "\n",
        "    if (a.shape[0] != a.shape[1]):\n",
        "        raise ValueError(\"a is not square\")\n",
        "\n",
        "    if (a.shape[0] != vec.shape[0]):\n",
        "        raise ValueError(\"vec should be of length %s\" % a.shape[0])\n",
        "\n",
        "    iters = 0\n",
        "    outvec = np.copy(vec)\n",
        "    lm = np.dot(outvec, outvec)\n",
        "    while True:\n",
        "      y_n = a.dot(outvec)\n",
        "      lm_prev = lm\n",
        "      lm = np.dot(outvec, y_n)\n",
        "      outvec = y_n / np.linalg.norm(y_n)\n",
        "      iters += 1\n",
        "      if (iters > maxiter) or (np.abs(lm - lm_prev) < eps):\n",
        "        break\n",
        "    return lm, outvec, iters"
      ],
      "execution_count": null,
      "outputs": []
    },
    {
      "cell_type": "markdown",
      "metadata": {
        "deletable": false,
        "editable": false,
        "nbgrader": {
          "cell_type": "markdown",
          "checksum": "794418380c0633f7d05918214a63a46d",
          "grade": false,
          "grade_id": "cell-16650a49b51bde96",
          "locked": true,
          "schema_version": 3,
          "solution": false,
          "task": false
        },
        "id": "uIZmm2h17unF"
      },
      "source": [
        "Протестируйте свою функцию на следующих примерах:"
      ]
    },
    {
      "cell_type": "code",
      "metadata": {
        "deletable": false,
        "editable": false,
        "nbgrader": {
          "cell_type": "code",
          "checksum": "9e86359b74379b404d33edcaa13736b7",
          "grade": true,
          "grade_id": "cell-d67c4ed20e0cc45a",
          "locked": true,
          "points": 4,
          "schema_version": 3,
          "solution": false,
          "task": false
        },
        "id": "sNiMODsM7unG"
      },
      "source": [
        "A = np.asarray([[4, 34],[7, 1]])\n",
        "\n",
        "np.random.seed(123)\n",
        "x = np.random.random(size=2)\n",
        "\n",
        "l, e, k = power_iter(A, x)\n",
        "assert_allclose(A @ e, l * e, atol=1e-3)\n",
        "\n",
        "l, e, k = power_iter(A, x, 1e-5)\n",
        "assert_allclose(A @ e, l * e, atol=1e-5)\n"
      ],
      "execution_count": null,
      "outputs": []
    },
    {
      "cell_type": "markdown",
      "metadata": {
        "deletable": false,
        "editable": false,
        "nbgrader": {
          "cell_type": "markdown",
          "checksum": "09dd6054c925c2448cbdfb2a00952c31",
          "grade": false,
          "grade_id": "cell-0aea0e46b416169e",
          "locked": true,
          "schema_version": 3,
          "solution": false,
          "task": false
        },
        "id": "o7O9MVx67unG"
      },
      "source": [
        "# 2. Обратная итерация\n",
        "\n",
        "Этот метод может использоваться, например, для поиска собственных векторов матрицы, если уже имеется достаточно хорошее приближение её максимального собственного значения.\n",
        "\n",
        "Для реализации алгоритма необходимо задать начальные приближения для собственного вектора $x_0$ и собственного значения $\\mu$.\n",
        "\n",
        "На каждой итерации метода решается система уравнений:\n",
        "$$(A - \\lambda^{(k)} I) y_{k+1} = x_k,$$\n",
        "приэтом $\\lambda^{(0)} = \\mu$. После этого за новое приближение собственного вектора принимается нормированный вектор $y_{k+1}$:\n",
        "$$x_{k+1} = \\cfrac{y_{k+1}}{||y_{k+1}||}.$$"
      ]
    },
    {
      "cell_type": "code",
      "metadata": {
        "deletable": false,
        "nbgrader": {
          "cell_type": "code",
          "checksum": "f9b46113b4ae028819eaf69072b54de2",
          "grade": false,
          "grade_id": "cell-f3b15fcf5f5b9c62",
          "locked": false,
          "schema_version": 3,
          "solution": true,
          "task": false
        },
        "id": "gJfX9sC77unH"
      },
      "source": [
        "def inverse_iter(a, vec, mu, eps=1e-3, maxiter=1000):\n",
        "    \"\"\"Реализует алгоритм степенной итерации поиска максимального собственного значения матрицы a\n",
        "        с начальным приближением собственного вектора vec и начальным приближением собственного значения mu\n",
        "\n",
        "    Parameters\n",
        "    ----------\n",
        "    a : array-like of floats, shape (n, n)\n",
        "        Введённая матрица\n",
        "    vec : array-like of floats, shape (n,)\n",
        "        Введённое начальное приближение собственного вектора\n",
        "    mu : float\n",
        "        Введённое начальное приближение собственного значения\n",
        "    eps : float\n",
        "        Введённая точность\n",
        "    maxiter : integer\n",
        "        Максимальное количество итераций\n",
        "\n",
        "    Returns\n",
        "    -------\n",
        "    lm : float\n",
        "        Приближение максимального собственного значения\n",
        "    outvec : array of floats, shape (n,)\n",
        "        Приближение собственного вектора\n",
        "    iters : integer\n",
        "        Количество итераций\n",
        "    \"\"\"\n",
        "    a = np.asarray(a, dtype=float)\n",
        "    if a.ndim != 2:\n",
        "        raise ValueError(\"a.ndim = %s, expected 2\" % a.ndim)\n",
        "\n",
        "    vec = np.asarray(vec, dtype=float)\n",
        "    if vec.ndim != 1:\n",
        "        raise ValueError(\"vec.ndim = %s, expected 1\" % vec.ndim)\n",
        "\n",
        "    if (a.shape[0] != a.shape[1]):\n",
        "        raise ValueError(\"a is not square\")\n",
        "\n",
        "    if (a.shape[0] != vec.shape[0]):\n",
        "        raise ValueError(\"vec should be of length %s\" % a.shape[0])\n",
        "\n",
        "    iters = 0\n",
        "    outvec = np.copy(vec)\n",
        "    lm = mu\n",
        "    I = np.eye(a.shape[0])\n",
        "    while True:\n",
        "      y_n = np.linalg.solve(a - np.dot(lm, I), outvec)\n",
        "      lm_prev = lm\n",
        "      lm = np.dot(outvec, np.dot(a, outvec))\n",
        "      outvec = y_n / np.linalg.norm(y_n)\n",
        "      iters += 1\n",
        "      if (iters > maxiter) or (np.abs(lm - lm_prev) < eps):\n",
        "        break\n",
        "    return lm, outvec, iters"
      ],
      "execution_count": null,
      "outputs": []
    },
    {
      "cell_type": "markdown",
      "metadata": {
        "deletable": false,
        "editable": false,
        "nbgrader": {
          "cell_type": "markdown",
          "checksum": "a6ddbeaa68cf7507ded8c69c800b2232",
          "grade": false,
          "grade_id": "cell-dbefba66b5327bd6",
          "locked": true,
          "schema_version": 3,
          "solution": false,
          "task": false
        },
        "id": "uylDv8Wz7unH"
      },
      "source": [
        "Протестируйте свою функцию на следующих примерах:"
      ]
    },
    {
      "cell_type": "code",
      "metadata": {
        "deletable": false,
        "editable": false,
        "nbgrader": {
          "cell_type": "code",
          "checksum": "320a824265ae0f53894c0dbb79395c4c",
          "grade": true,
          "grade_id": "cell-014b5a8fe53ecfdf",
          "locked": true,
          "points": 3,
          "schema_version": 3,
          "solution": false,
          "task": false
        },
        "id": "8P8dKEZx7unI"
      },
      "source": [
        "A = np.asarray([[4, 34],\n",
        "                [7, 1]])\n",
        "x = np.random.random(size=2)\n",
        "\n",
        "l, e, k = inverse_iter(A, x, 1.)\n",
        "assert_allclose(A @ e, l * e, atol=1e-3)\n",
        "\n",
        "l, e, k = inverse_iter(A, x, 100.)\n",
        "assert_allclose(A @ e, l * e, atol=1e-3)\n"
      ],
      "execution_count": null,
      "outputs": []
    },
    {
      "cell_type": "markdown",
      "metadata": {
        "deletable": false,
        "editable": false,
        "nbgrader": {
          "cell_type": "markdown",
          "checksum": "fcbbe61b5efabaf37f9d11b68774e4c1",
          "grade": false,
          "grade_id": "cell-30adf2c9ac9e0774",
          "locked": true,
          "schema_version": 3,
          "solution": false,
          "task": false
        },
        "id": "tjfW4Uwn7unI"
      },
      "source": [
        "## Пример\n",
        "\n",
        "Рассмотрите матрицу\n",
        "$$ A =\n",
        "\\begin{bmatrix}\n",
        "3 & 1 & 0 & 0\\\\\n",
        "1 & 2 & 0 & 1\\\\\n",
        "0 & 0 & 1 & 1\\\\\n",
        "0 & 1 & 1 & 1\n",
        "\\end{bmatrix}.$$"
      ]
    },
    {
      "cell_type": "code",
      "metadata": {
        "deletable": false,
        "nbgrader": {
          "cell_type": "code",
          "checksum": "1e5cc87b75e98cb63efc0bd0e5d4419d",
          "grade": false,
          "grade_id": "cell-3fb3b96b54cbb97d",
          "locked": false,
          "schema_version": 3,
          "solution": true,
          "task": false
        },
        "id": "k7aR1zXZ7unI"
      },
      "source": [
        "# Определите матрицу `А` и задайте начальное приближение для собственного вектора\n",
        "# (используйте случайный начальный вектор)\n",
        "\n",
        "def A_and_x(seed=1234):\n",
        "    A = np.asarray([[3, 1, 0, 0],\n",
        "                [1, 2, 0, 0],\n",
        "                [0, 0, 1, 1],\n",
        "                [0, 1, 1, 1],])\n",
        "    np.random.seed(seed)\n",
        "    x = np.random.random(size = 4)\n",
        "    return A, x"
      ],
      "execution_count": null,
      "outputs": []
    },
    {
      "cell_type": "markdown",
      "metadata": {
        "deletable": false,
        "editable": false,
        "nbgrader": {
          "cell_type": "markdown",
          "checksum": "41e2028e64f76fb8ad699f4b111affbf",
          "grade": false,
          "grade_id": "cell-8070e62614ed1872",
          "locked": true,
          "schema_version": 3,
          "solution": false,
          "task": false
        },
        "id": "b0TflNsL7unJ"
      },
      "source": [
        "Найдите максимальное собственное число этой матрицы тремя разными методами."
      ]
    },
    {
      "cell_type": "markdown",
      "metadata": {
        "deletable": false,
        "editable": false,
        "nbgrader": {
          "cell_type": "markdown",
          "checksum": "cb1678cca632bff7bce255e85732a975",
          "grade": false,
          "grade_id": "cell-81756f5999707654",
          "locked": true,
          "schema_version": 3,
          "solution": false,
          "task": false
        },
        "id": "mvQkaE1n7unJ"
      },
      "source": [
        "### 1) Степенная итерация"
      ]
    },
    {
      "cell_type": "code",
      "metadata": {
        "deletable": false,
        "editable": false,
        "nbgrader": {
          "cell_type": "code",
          "checksum": "22e2c92361a75f8b76b9d8a0441f19dd",
          "grade": true,
          "grade_id": "cell-a48d281064127067",
          "locked": true,
          "points": 1,
          "schema_version": 3,
          "solution": false,
          "task": false
        },
        "id": "DSsrf8iQ7unJ"
      },
      "source": [
        "A, x = A_and_x()\n",
        "\n",
        "l, e, k1 = power_iter(A, x)\n",
        "assert_allclose(A @ e, l * e, atol=1.6e-2)\n"
      ],
      "execution_count": null,
      "outputs": []
    },
    {
      "cell_type": "markdown",
      "metadata": {
        "id": "Wl_guD637unJ"
      },
      "source": [
        "### 2) Обратная итерация с $\\mu = 3.5$"
      ]
    },
    {
      "cell_type": "code",
      "metadata": {
        "deletable": false,
        "editable": false,
        "nbgrader": {
          "cell_type": "code",
          "checksum": "56ac5b858a8eb36d7620d5c82bb462b5",
          "grade": true,
          "grade_id": "cell-80ce0d792279ba41",
          "locked": true,
          "points": 1,
          "schema_version": 3,
          "solution": false,
          "task": false
        },
        "id": "P_ChiKAG7unK"
      },
      "source": [
        "A, x = A_and_x()\n",
        "\n",
        "l, e, k2 = inverse_iter(A, x, 3.5)\n",
        "assert_allclose(A @ e, l * e, atol=1e-3)\n"
      ],
      "execution_count": null,
      "outputs": []
    },
    {
      "cell_type": "markdown",
      "metadata": {
        "deletable": false,
        "editable": false,
        "nbgrader": {
          "cell_type": "markdown",
          "checksum": "6fa73bf60139a3b567f231dcfacee482",
          "grade": false,
          "grade_id": "cell-8e66d533134b1c8a",
          "locked": true,
          "schema_version": 3,
          "solution": false,
          "task": false
        },
        "id": "UglZeBQT7unK"
      },
      "source": [
        "### 3) Обратная итерация с $\\mu = 3.7$"
      ]
    },
    {
      "cell_type": "code",
      "metadata": {
        "deletable": false,
        "editable": false,
        "nbgrader": {
          "cell_type": "code",
          "checksum": "58d5f06ae8cda2aa8a201afe5f6aa037",
          "grade": true,
          "grade_id": "cell-9fdc8e167e855b76",
          "locked": true,
          "points": 1,
          "schema_version": 3,
          "solution": false,
          "task": false
        },
        "id": "QNOJxEGr7unK"
      },
      "source": [
        "A, x = A_and_x()\n",
        "\n",
        "l, e, k3 = inverse_iter(A, x, 3.7)\n",
        "assert_allclose(A @ e, l * e, atol=1e-3)\n"
      ],
      "execution_count": null,
      "outputs": []
    },
    {
      "cell_type": "markdown",
      "metadata": {
        "deletable": false,
        "editable": false,
        "nbgrader": {
          "cell_type": "markdown",
          "checksum": "78fe511364d7cc76fd2f4df9f3a3a926",
          "grade": false,
          "grade_id": "cell-5a89eda9d7deabf3",
          "locked": true,
          "points": 5,
          "schema_version": 3,
          "solution": false,
          "task": true
        },
        "id": "4KORp9kO7unK"
      },
      "source": [
        "Сколько шагов $k$ требуется в каждом случае для того, чтобы получить настоящий собственный вектор $x^*$ с точностью $||x^* - x_k||_2 < 10^{-3}$?"
      ]
    },
    {
      "cell_type": "code",
      "metadata": {
        "deletable": false,
        "nbgrader": {
          "cell_type": "code",
          "checksum": "5312cb237aaba2e94e26cd2177a31bd0",
          "grade": true,
          "grade_id": "cell-6e9a3b55d1fa9b7d",
          "locked": false,
          "points": 0,
          "schema_version": 3,
          "solution": true,
          "task": false
        },
        "id": "1s1tt55a7unL",
        "colab": {
          "base_uri": "https://localhost:8080/"
        },
        "outputId": "ca7ee868-9bfc-4019-838d-a2fc7bb7e399"
      },
      "source": [
        "A, x = A_and_x()\n",
        "\n",
        "l, e, k = power_iter(A, x)\n",
        "ll, ee, kk = inverse_iter(A, x, 3.5)\n",
        "lll, eee, kkk = inverse_iter(A, x, 3.7)\n",
        "print(l, ll, lll)\n",
        "print(e, ee, eee)\n",
        "print(k, kk, kkk)"
      ],
      "execution_count": null,
      "outputs": [
        {
          "output_type": "stream",
          "text": [
            "3.6173528097675076 3.6180394033277947 3.6180308459636445\n",
            "[0.82473205 0.50971611 0.08780264 0.22868589] [-0.82492505 -0.50983172 -0.08708966 -0.22800368] [0.82492505 0.50983172 0.08708965 0.22800367]\n",
            "13 5 5\n"
          ],
          "name": "stdout"
        }
      ]
    },
    {
      "cell_type": "code",
      "metadata": {
        "id": "XNSSWA6tQVAu"
      },
      "source": [],
      "execution_count": null,
      "outputs": []
    }
  ]
}