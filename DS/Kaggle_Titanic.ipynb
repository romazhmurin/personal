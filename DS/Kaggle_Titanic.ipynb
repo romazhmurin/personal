{
  "nbformat": 4,
  "nbformat_minor": 0,
  "metadata": {
    "colab": {
      "name": "Kaggle Titanic.ipynb",
      "provenance": [],
      "collapsed_sections": [],
      "authorship_tag": "ABX9TyNNKHPjzNI67Jr+O0mhfGpo",
      "include_colab_link": true
    },
    "kernelspec": {
      "name": "python3",
      "display_name": "Python 3"
    },
    "language_info": {
      "name": "python"
    }
  },
  "cells": [
    {
      "cell_type": "markdown",
      "metadata": {
        "id": "view-in-github",
        "colab_type": "text"
      },
      "source": [
        "<a href=\"https://colab.research.google.com/github/RomaZhm/ColabNotes/blob/main/Kaggle_Titanic.ipynb\" target=\"_parent\"><img src=\"https://colab.research.google.com/assets/colab-badge.svg\" alt=\"Open In Colab\"/></a>"
      ]
    },
    {
      "cell_type": "markdown",
      "metadata": {
        "id": "6ehMqN2j8Ce0"
      },
      "source": [
        "# kaggle import"
      ]
    },
    {
      "cell_type": "code",
      "metadata": {
        "colab": {
          "base_uri": "https://localhost:8080/"
        },
        "id": "K2HI57C-Bv2T",
        "outputId": "a22b4418-cdfb-4bd9-c5db-c4fad0db926d"
      },
      "source": [
        "!pip install kaggle"
      ],
      "execution_count": 204,
      "outputs": [
        {
          "output_type": "stream",
          "name": "stdout",
          "text": [
            "Requirement already satisfied: kaggle in /usr/local/lib/python3.7/dist-packages (1.5.12)\n",
            "Requirement already satisfied: certifi in /usr/local/lib/python3.7/dist-packages (from kaggle) (2021.5.30)\n",
            "Requirement already satisfied: urllib3 in /usr/local/lib/python3.7/dist-packages (from kaggle) (1.24.3)\n",
            "Requirement already satisfied: tqdm in /usr/local/lib/python3.7/dist-packages (from kaggle) (4.62.3)\n",
            "Requirement already satisfied: six>=1.10 in /usr/local/lib/python3.7/dist-packages (from kaggle) (1.15.0)\n",
            "Requirement already satisfied: python-slugify in /usr/local/lib/python3.7/dist-packages (from kaggle) (5.0.2)\n",
            "Requirement already satisfied: requests in /usr/local/lib/python3.7/dist-packages (from kaggle) (2.23.0)\n",
            "Requirement already satisfied: python-dateutil in /usr/local/lib/python3.7/dist-packages (from kaggle) (2.8.2)\n",
            "Requirement already satisfied: text-unidecode>=1.3 in /usr/local/lib/python3.7/dist-packages (from python-slugify->kaggle) (1.3)\n",
            "Requirement already satisfied: idna<3,>=2.5 in /usr/local/lib/python3.7/dist-packages (from requests->kaggle) (2.10)\n",
            "Requirement already satisfied: chardet<4,>=3.0.2 in /usr/local/lib/python3.7/dist-packages (from requests->kaggle) (3.0.4)\n"
          ]
        }
      ]
    },
    {
      "cell_type": "code",
      "metadata": {
        "colab": {
          "resources": {
            "http://localhost:8080/nbextensions/google.colab/files.js": {
              "data": "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",
              "ok": true,
              "headers": [
                [
                  "content-type",
                  "application/javascript"
                ]
              ],
              "status": 200,
              "status_text": ""
            }
          },
          "base_uri": "https://localhost:8080/",
          "height": 89
        },
        "id": "lwEKvRXKB1jP",
        "outputId": "0e658369-209f-46e0-f7d2-006b67beb7e4"
      },
      "source": [
        "from google.colab import files\n",
        "\n",
        "uploaded = files.upload()\n",
        "\n",
        "for fn in uploaded.keys():\n",
        "  print('User uploaded file \"{name}\" with length {length} bytes'.format(\n",
        "      name=fn, length=len(uploaded[fn])))\n",
        "  \n",
        "# Then move kaggle.json into the folder where the API expects to find it.\n",
        "!mkdir -p ~/.kaggle/ && mv kaggle.json ~/.kaggle/ && chmod 600 ~/.kaggle/kaggle.json"
      ],
      "execution_count": 205,
      "outputs": [
        {
          "output_type": "display_data",
          "data": {
            "text/html": [
              "\n",
              "     <input type=\"file\" id=\"files-122634e3-00d2-4257-a411-0dcfbe5a0856\" name=\"files[]\" multiple disabled\n",
              "        style=\"border:none\" />\n",
              "     <output id=\"result-122634e3-00d2-4257-a411-0dcfbe5a0856\">\n",
              "      Upload widget is only available when the cell has been executed in the\n",
              "      current browser session. Please rerun this cell to enable.\n",
              "      </output>\n",
              "      <script src=\"/nbextensions/google.colab/files.js\"></script> "
            ],
            "text/plain": [
              "<IPython.core.display.HTML object>"
            ]
          },
          "metadata": {}
        },
        {
          "output_type": "stream",
          "name": "stdout",
          "text": [
            "Saving kaggle.json to kaggle.json\n",
            "User uploaded file \"kaggle.json\" with length 67 bytes\n"
          ]
        }
      ]
    },
    {
      "cell_type": "code",
      "metadata": {
        "colab": {
          "base_uri": "https://localhost:8080/"
        },
        "id": "q8__ZRAKCcpG",
        "outputId": "9ac55838-7d68-4a16-cca7-98f4e54ae495"
      },
      "source": [
        "!kaggle competitions download -c titanic"
      ],
      "execution_count": 206,
      "outputs": [
        {
          "output_type": "stream",
          "name": "stdout",
          "text": [
            "Warning: Looks like you're using an outdated API Version, please consider updating (server 1.5.12 / client 1.5.4)\n",
            "test.csv: Skipping, found more recently modified local copy (use --force to force download)\n",
            "gender_submission.csv: Skipping, found more recently modified local copy (use --force to force download)\n",
            "train.csv: Skipping, found more recently modified local copy (use --force to force download)\n"
          ]
        }
      ]
    },
    {
      "cell_type": "markdown",
      "metadata": {
        "id": "7tAydotz8N0G"
      },
      "source": [
        "# data"
      ]
    },
    {
      "cell_type": "code",
      "metadata": {
        "id": "cR323ouZLwpo"
      },
      "source": [
        "import pandas as pd\n",
        "import numpy as np\n",
        "import seaborn as sns\n",
        "import matplotlib.pyplot as plt\n",
        "\n",
        "import warnings\n",
        "warnings.filterwarnings(\"ignore\")"
      ],
      "execution_count": 546,
      "outputs": []
    },
    {
      "cell_type": "code",
      "metadata": {
        "colab": {
          "base_uri": "https://localhost:8080/",
          "height": 235
        },
        "id": "hPSjgn08DXJo",
        "outputId": "44b4c28b-d8d0-482c-f790-327581482d8c"
      },
      "source": [
        "basepath = \"/content/\"\n",
        "train_data = pd.read_csv(basepath + \"train.csv\")\n",
        "test_data = pd.read_csv(basepath + \"test.csv\")\n",
        "train_data.head(6)"
      ],
      "execution_count": 547,
      "outputs": [
        {
          "output_type": "execute_result",
          "data": {
            "text/html": [
              "<div>\n",
              "<style scoped>\n",
              "    .dataframe tbody tr th:only-of-type {\n",
              "        vertical-align: middle;\n",
              "    }\n",
              "\n",
              "    .dataframe tbody tr th {\n",
              "        vertical-align: top;\n",
              "    }\n",
              "\n",
              "    .dataframe thead th {\n",
              "        text-align: right;\n",
              "    }\n",
              "</style>\n",
              "<table border=\"1\" class=\"dataframe\">\n",
              "  <thead>\n",
              "    <tr style=\"text-align: right;\">\n",
              "      <th></th>\n",
              "      <th>PassengerId</th>\n",
              "      <th>Survived</th>\n",
              "      <th>Pclass</th>\n",
              "      <th>Name</th>\n",
              "      <th>Sex</th>\n",
              "      <th>Age</th>\n",
              "      <th>SibSp</th>\n",
              "      <th>Parch</th>\n",
              "      <th>Ticket</th>\n",
              "      <th>Fare</th>\n",
              "      <th>Cabin</th>\n",
              "      <th>Embarked</th>\n",
              "    </tr>\n",
              "  </thead>\n",
              "  <tbody>\n",
              "    <tr>\n",
              "      <th>0</th>\n",
              "      <td>1</td>\n",
              "      <td>0</td>\n",
              "      <td>3</td>\n",
              "      <td>Braund, Mr. Owen Harris</td>\n",
              "      <td>male</td>\n",
              "      <td>22.0</td>\n",
              "      <td>1</td>\n",
              "      <td>0</td>\n",
              "      <td>A/5 21171</td>\n",
              "      <td>7.2500</td>\n",
              "      <td>NaN</td>\n",
              "      <td>S</td>\n",
              "    </tr>\n",
              "    <tr>\n",
              "      <th>1</th>\n",
              "      <td>2</td>\n",
              "      <td>1</td>\n",
              "      <td>1</td>\n",
              "      <td>Cumings, Mrs. John Bradley (Florence Briggs Th...</td>\n",
              "      <td>female</td>\n",
              "      <td>38.0</td>\n",
              "      <td>1</td>\n",
              "      <td>0</td>\n",
              "      <td>PC 17599</td>\n",
              "      <td>71.2833</td>\n",
              "      <td>C85</td>\n",
              "      <td>C</td>\n",
              "    </tr>\n",
              "    <tr>\n",
              "      <th>2</th>\n",
              "      <td>3</td>\n",
              "      <td>1</td>\n",
              "      <td>3</td>\n",
              "      <td>Heikkinen, Miss. Laina</td>\n",
              "      <td>female</td>\n",
              "      <td>26.0</td>\n",
              "      <td>0</td>\n",
              "      <td>0</td>\n",
              "      <td>STON/O2. 3101282</td>\n",
              "      <td>7.9250</td>\n",
              "      <td>NaN</td>\n",
              "      <td>S</td>\n",
              "    </tr>\n",
              "    <tr>\n",
              "      <th>3</th>\n",
              "      <td>4</td>\n",
              "      <td>1</td>\n",
              "      <td>1</td>\n",
              "      <td>Futrelle, Mrs. Jacques Heath (Lily May Peel)</td>\n",
              "      <td>female</td>\n",
              "      <td>35.0</td>\n",
              "      <td>1</td>\n",
              "      <td>0</td>\n",
              "      <td>113803</td>\n",
              "      <td>53.1000</td>\n",
              "      <td>C123</td>\n",
              "      <td>S</td>\n",
              "    </tr>\n",
              "    <tr>\n",
              "      <th>4</th>\n",
              "      <td>5</td>\n",
              "      <td>0</td>\n",
              "      <td>3</td>\n",
              "      <td>Allen, Mr. William Henry</td>\n",
              "      <td>male</td>\n",
              "      <td>35.0</td>\n",
              "      <td>0</td>\n",
              "      <td>0</td>\n",
              "      <td>373450</td>\n",
              "      <td>8.0500</td>\n",
              "      <td>NaN</td>\n",
              "      <td>S</td>\n",
              "    </tr>\n",
              "    <tr>\n",
              "      <th>5</th>\n",
              "      <td>6</td>\n",
              "      <td>0</td>\n",
              "      <td>3</td>\n",
              "      <td>Moran, Mr. James</td>\n",
              "      <td>male</td>\n",
              "      <td>NaN</td>\n",
              "      <td>0</td>\n",
              "      <td>0</td>\n",
              "      <td>330877</td>\n",
              "      <td>8.4583</td>\n",
              "      <td>NaN</td>\n",
              "      <td>Q</td>\n",
              "    </tr>\n",
              "  </tbody>\n",
              "</table>\n",
              "</div>"
            ],
            "text/plain": [
              "   PassengerId  Survived  Pclass  ...     Fare Cabin  Embarked\n",
              "0            1         0       3  ...   7.2500   NaN         S\n",
              "1            2         1       1  ...  71.2833   C85         C\n",
              "2            3         1       3  ...   7.9250   NaN         S\n",
              "3            4         1       1  ...  53.1000  C123         S\n",
              "4            5         0       3  ...   8.0500   NaN         S\n",
              "5            6         0       3  ...   8.4583   NaN         Q\n",
              "\n",
              "[6 rows x 12 columns]"
            ]
          },
          "metadata": {},
          "execution_count": 547
        }
      ]
    },
    {
      "cell_type": "markdown",
      "metadata": {
        "id": "4ZNmjLhpLas4"
      },
      "source": [
        "![image.png](data:image/png;base64,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)"
      ]
    },
    {
      "cell_type": "code",
      "metadata": {
        "colab": {
          "base_uri": "https://localhost:8080/",
          "height": 235
        },
        "id": "sTSMAVF12qOD",
        "outputId": "2c36c417-b433-4ccb-a53d-50e47fecd4d3"
      },
      "source": [
        "test_data.head(6)"
      ],
      "execution_count": 548,
      "outputs": [
        {
          "output_type": "execute_result",
          "data": {
            "text/html": [
              "<div>\n",
              "<style scoped>\n",
              "    .dataframe tbody tr th:only-of-type {\n",
              "        vertical-align: middle;\n",
              "    }\n",
              "\n",
              "    .dataframe tbody tr th {\n",
              "        vertical-align: top;\n",
              "    }\n",
              "\n",
              "    .dataframe thead th {\n",
              "        text-align: right;\n",
              "    }\n",
              "</style>\n",
              "<table border=\"1\" class=\"dataframe\">\n",
              "  <thead>\n",
              "    <tr style=\"text-align: right;\">\n",
              "      <th></th>\n",
              "      <th>PassengerId</th>\n",
              "      <th>Pclass</th>\n",
              "      <th>Name</th>\n",
              "      <th>Sex</th>\n",
              "      <th>Age</th>\n",
              "      <th>SibSp</th>\n",
              "      <th>Parch</th>\n",
              "      <th>Ticket</th>\n",
              "      <th>Fare</th>\n",
              "      <th>Cabin</th>\n",
              "      <th>Embarked</th>\n",
              "    </tr>\n",
              "  </thead>\n",
              "  <tbody>\n",
              "    <tr>\n",
              "      <th>0</th>\n",
              "      <td>892</td>\n",
              "      <td>3</td>\n",
              "      <td>Kelly, Mr. James</td>\n",
              "      <td>male</td>\n",
              "      <td>34.5</td>\n",
              "      <td>0</td>\n",
              "      <td>0</td>\n",
              "      <td>330911</td>\n",
              "      <td>7.8292</td>\n",
              "      <td>NaN</td>\n",
              "      <td>Q</td>\n",
              "    </tr>\n",
              "    <tr>\n",
              "      <th>1</th>\n",
              "      <td>893</td>\n",
              "      <td>3</td>\n",
              "      <td>Wilkes, Mrs. James (Ellen Needs)</td>\n",
              "      <td>female</td>\n",
              "      <td>47.0</td>\n",
              "      <td>1</td>\n",
              "      <td>0</td>\n",
              "      <td>363272</td>\n",
              "      <td>7.0000</td>\n",
              "      <td>NaN</td>\n",
              "      <td>S</td>\n",
              "    </tr>\n",
              "    <tr>\n",
              "      <th>2</th>\n",
              "      <td>894</td>\n",
              "      <td>2</td>\n",
              "      <td>Myles, Mr. Thomas Francis</td>\n",
              "      <td>male</td>\n",
              "      <td>62.0</td>\n",
              "      <td>0</td>\n",
              "      <td>0</td>\n",
              "      <td>240276</td>\n",
              "      <td>9.6875</td>\n",
              "      <td>NaN</td>\n",
              "      <td>Q</td>\n",
              "    </tr>\n",
              "    <tr>\n",
              "      <th>3</th>\n",
              "      <td>895</td>\n",
              "      <td>3</td>\n",
              "      <td>Wirz, Mr. Albert</td>\n",
              "      <td>male</td>\n",
              "      <td>27.0</td>\n",
              "      <td>0</td>\n",
              "      <td>0</td>\n",
              "      <td>315154</td>\n",
              "      <td>8.6625</td>\n",
              "      <td>NaN</td>\n",
              "      <td>S</td>\n",
              "    </tr>\n",
              "    <tr>\n",
              "      <th>4</th>\n",
              "      <td>896</td>\n",
              "      <td>3</td>\n",
              "      <td>Hirvonen, Mrs. Alexander (Helga E Lindqvist)</td>\n",
              "      <td>female</td>\n",
              "      <td>22.0</td>\n",
              "      <td>1</td>\n",
              "      <td>1</td>\n",
              "      <td>3101298</td>\n",
              "      <td>12.2875</td>\n",
              "      <td>NaN</td>\n",
              "      <td>S</td>\n",
              "    </tr>\n",
              "    <tr>\n",
              "      <th>5</th>\n",
              "      <td>897</td>\n",
              "      <td>3</td>\n",
              "      <td>Svensson, Mr. Johan Cervin</td>\n",
              "      <td>male</td>\n",
              "      <td>14.0</td>\n",
              "      <td>0</td>\n",
              "      <td>0</td>\n",
              "      <td>7538</td>\n",
              "      <td>9.2250</td>\n",
              "      <td>NaN</td>\n",
              "      <td>S</td>\n",
              "    </tr>\n",
              "  </tbody>\n",
              "</table>\n",
              "</div>"
            ],
            "text/plain": [
              "   PassengerId  Pclass  ... Cabin Embarked\n",
              "0          892       3  ...   NaN        Q\n",
              "1          893       3  ...   NaN        S\n",
              "2          894       2  ...   NaN        Q\n",
              "3          895       3  ...   NaN        S\n",
              "4          896       3  ...   NaN        S\n",
              "5          897       3  ...   NaN        S\n",
              "\n",
              "[6 rows x 11 columns]"
            ]
          },
          "metadata": {},
          "execution_count": 548
        }
      ]
    },
    {
      "cell_type": "code",
      "metadata": {
        "colab": {
          "base_uri": "https://localhost:8080/"
        },
        "id": "o7nVKhKQD9-C",
        "outputId": "6033b52d-aa71-4d94-cbda-0d7d59702f28"
      },
      "source": [
        "print(train_data.shape)\n",
        "print(np.sum(train_data.isnull()), '\\n')\n",
        "print(np.sum(train_data[train_data['Survived'] == 0]['Age'].isnull()))\n",
        "print(np.sum(train_data[train_data['Survived'] == 1]['Age'].isnull()))"
      ],
      "execution_count": 549,
      "outputs": [
        {
          "output_type": "stream",
          "name": "stdout",
          "text": [
            "(891, 12)\n",
            "PassengerId      0\n",
            "Survived         0\n",
            "Pclass           0\n",
            "Name             0\n",
            "Sex              0\n",
            "Age            177\n",
            "SibSp            0\n",
            "Parch            0\n",
            "Ticket           0\n",
            "Fare             0\n",
            "Cabin          687\n",
            "Embarked         2\n",
            "dtype: int64 \n",
            "\n",
            "125\n",
            "52\n"
          ]
        }
      ]
    },
    {
      "cell_type": "code",
      "metadata": {
        "colab": {
          "base_uri": "https://localhost:8080/"
        },
        "id": "kqUabvL0iUYN",
        "outputId": "4382bcad-6931-4805-c05c-190356a233bb"
      },
      "source": [
        "women = train_data[train_data['Sex'] == 'female'][\"Survived\"]\n",
        "rate_women = sum(women)/len(women)\n",
        "\n",
        "men = train_data[train_data['Sex'] == 'male'][\"Survived\"]\n",
        "rate_men = sum(men)/len(men)\n",
        "\n",
        "print(\"% of women who survived:\", rate_women)\n",
        "print(\"% of women who survived:\", rate_men)"
      ],
      "execution_count": 550,
      "outputs": [
        {
          "output_type": "stream",
          "name": "stdout",
          "text": [
            "% of women who survived: 0.7420382165605095\n",
            "% of women who survived: 0.18890814558058924\n"
          ]
        }
      ]
    },
    {
      "cell_type": "code",
      "metadata": {
        "colab": {
          "base_uri": "https://localhost:8080/",
          "height": 336
        },
        "id": "BCvr9f1djNBg",
        "outputId": "a31e1a48-652d-455b-84b5-4f8f2db18c0b"
      },
      "source": [
        "plt.figure(figsize=(10,5))\n",
        "\n",
        "train_data['Survived'].value_counts().plot(kind='barh')\n",
        "\n",
        "plt.title('Целевая переменная')\n",
        "plt.show()"
      ],
      "execution_count": 551,
      "outputs": [
        {
          "output_type": "display_data",
          "data": {
            "image/png": "[encoded data removed]",
            "text/plain": [
              "<Figure size 720x360 with 1 Axes>"
            ]
          },
          "metadata": {
            "needs_background": "light"
          }
        }
      ]
    },
    {
      "cell_type": "code",
      "metadata": {
        "colab": {
          "base_uri": "https://localhost:8080/",
          "height": 351
        },
        "id": "mgVv4XRFiErI",
        "outputId": "e4d1154f-9c7d-48b4-9378-e076373337c0"
      },
      "source": [
        "plt.figure(figsize = (10, 5))\n",
        "sns.distplot(train_data['Age'])"
      ],
      "execution_count": 552,
      "outputs": [
        {
          "output_type": "execute_result",
          "data": {
            "text/plain": [
              "<matplotlib.axes._subplots.AxesSubplot at 0x7fc9a1b58e50>"
            ]
          },
          "metadata": {},
          "execution_count": 552
        },
        {
          "output_type": "display_data",
          "data": {
            "image/png": "[encoded data removed]",
            "text/plain": [
              "<Figure size 720x360 with 1 Axes>"
            ]
          },
          "metadata": {
            "needs_background": "light"
          }
        }
      ]
    },
    {
      "cell_type": "code",
      "metadata": {
        "colab": {
          "base_uri": "https://localhost:8080/",
          "height": 351
        },
        "id": "kQgof1AvPVoX",
        "outputId": "d22c1577-beaa-408e-dd99-5ab5e6343452"
      },
      "source": [
        "fig, (ax0, ax1) = plt.subplots(1, 2,  figsize=(10, 5))\n",
        "\n",
        "sns.distplot(train_data[train_data['Survived'] == 0]['Age'], ax=ax0, axlabel='Age of not Survived')\n",
        "sns.distplot(train_data[train_data['Survived'] == 1]['Age'], ax=ax1, color = 'Blue', axlabel='Age of Survived')"
      ],
      "execution_count": 553,
      "outputs": [
        {
          "output_type": "execute_result",
          "data": {
            "text/plain": [
              "<matplotlib.axes._subplots.AxesSubplot at 0x7fc9a1ff3f50>"
            ]
          },
          "metadata": {},
          "execution_count": 553
        },
        {
          "output_type": "display_data",
          "data": {
            "image/png": "[encoded data removed]",
            "text/plain": [
              "<Figure size 720x360 with 2 Axes>"
            ]
          },
          "metadata": {
            "needs_background": "light"
          }
        }
      ]
    },
    {
      "cell_type": "code",
      "metadata": {
        "colab": {
          "base_uri": "https://localhost:8080/",
          "height": 606
        },
        "id": "xIdIL5x7Pgp0",
        "outputId": "318b5f44-fb20-4bae-b6a5-fdb9efc9843c"
      },
      "source": [
        "fig, ax0 = plt.subplots(1, figsize=(10, 10))\n",
        "\n",
        "sns.distplot(train_data[train_data['Survived'] == 0]['Age'], ax=ax0, color = 'Blue', label='not Survived')\n",
        "sns.distplot(train_data[train_data['Survived'] == 1]['Age'], ax=ax0, color = 'Red', label='Survived')\n",
        "\n",
        "plt.legend()\n",
        "plt.show()"
      ],
      "execution_count": 554,
      "outputs": [
        {
          "output_type": "display_data",
          "data": {
            "image/png": "[encoded data removed]",
            "text/plain": [
              "<Figure size 720x720 with 1 Axes>"
            ]
          },
          "metadata": {
            "needs_background": "light"
          }
        }
      ]
    },
    {
      "cell_type": "code",
      "metadata": {
        "id": "A-MQM9c6S2wS"
      },
      "source": [
        "#for dataset in [train_data, test_data]:\n",
        "#    dataset['Age'] =  dataset['Age'].fillna(np.median(dataset['Age'].median()))"
      ],
      "execution_count": 555,
      "outputs": []
    },
    {
      "cell_type": "code",
      "metadata": {
        "id": "_l2-qHudzwhX"
      },
      "source": [
        "test_data['Fare'] =  test_data['Fare'].fillna(np.median(test_data['Fare'].median()))"
      ],
      "execution_count": 556,
      "outputs": []
    },
    {
      "cell_type": "code",
      "metadata": {
        "id": "NXhLkabAXvr2"
      },
      "source": [
        "# mean = train_data[\"Age\"].mean()\n",
        "# std = train_data[\"Age\"].std()\n",
        "# is_null = train_data[\"Age\"].isnull().sum()\n",
        "# # compute random numbers between the mean, std\n",
        "# rand_age = np.random.randint(mean - std, mean + std, size = is_null)\n",
        "# # fill NaN values in Age column with random values generated\n",
        "# age_slice = train_data[\"Age\"].copy()\n",
        "# age_slice[np.isnan(age_slice)] = rand_age\n",
        "# train_data[\"Age\"] = age_slice\n",
        "# train_data[\"Age\"] = train_data[\"Age\"].astype(int)\n",
        "for dataset in [train_data, test_data]:\n",
        "    mean = train_data[\"Age\"].mean()\n",
        "    std = test_data[\"Age\"].std()\n",
        "    is_null = dataset[\"Age\"].isnull().sum()\n",
        "    # compute random numbers between the mean, std and is_null\n",
        "    rand_age = np.random.randint(mean - std, mean + std, size = is_null)\n",
        "    # fill NaN values in Age column with random values generated\n",
        "    age_slice = dataset[\"Age\"].copy()\n",
        "    age_slice[np.isnan(age_slice)] = rand_age\n",
        "    dataset[\"Age\"] = age_slice\n",
        "    dataset[\"Age\"] = train_data[\"Age\"].astype(int)"
      ],
      "execution_count": 557,
      "outputs": []
    },
    {
      "cell_type": "code",
      "metadata": {
        "colab": {
          "base_uri": "https://localhost:8080/",
          "height": 606
        },
        "id": "Yu44gK3dYcJR",
        "outputId": "c232c402-ed93-4486-f3b1-15c347650a17"
      },
      "source": [
        "fig, ax0 = plt.subplots(1, figsize=(10, 10))\n",
        "\n",
        "sns.distplot(train_data[train_data['Survived'] == 0]['Age'], ax=ax0, color = 'Blue', label='not Survived')\n",
        "sns.distplot(train_data[train_data['Survived'] == 1]['Age'], ax=ax0, color = 'Red', label='Survived')\n",
        "\n",
        "plt.legend()\n",
        "plt.show()"
      ],
      "execution_count": 558,
      "outputs": [
        {
          "output_type": "display_data",
          "data": {
            "image/png": "[encoded data removed]",
            "text/plain": [
              "<Figure size 720x720 with 1 Axes>"
            ]
          },
          "metadata": {
            "needs_background": "light"
          }
        }
      ]
    },
    {
      "cell_type": "code",
      "metadata": {
        "colab": {
          "base_uri": "https://localhost:8080/",
          "height": 334
        },
        "id": "N3YeI5rvmdaH",
        "outputId": "1f7a2a53-0573-4ac5-a5a5-d1db74fd8bd8"
      },
      "source": [
        "fig, ax = plt.subplots(1, 2, figsize=(10, 5))\n",
        "\n",
        "for ax, j in zip(ax.flatten(), range(0, 2)):\n",
        "    sns.distplot(train_data[train_data['Survived'] == j]['Pclass'].dropna(), ax=ax, axlabel='Pclass of Survived ' + str(j))"
      ],
      "execution_count": 559,
      "outputs": [
        {
          "output_type": "display_data",
          "data": {
            "image/png": "[encoded data removed]",
            "text/plain": [
              "<Figure size 720x360 with 2 Axes>"
            ]
          },
          "metadata": {
            "needs_background": "light"
          }
        }
      ]
    },
    {
      "cell_type": "code",
      "metadata": {
        "colab": {
          "base_uri": "https://localhost:8080/"
        },
        "id": "s0NwR06T5AVr",
        "outputId": "a28a8cd1-9eb9-4608-e384-b723bdf9f616"
      },
      "source": [
        "print('Размерность набора данных до удаления: {}'.format(train_data.shape))\n",
        "\n",
        "train_data.drop(columns=['Ticket', 'Cabin'], inplace=True)\n",
        "test_data.drop(columns=['Ticket', 'Cabin'], inplace=True)\n",
        "\n",
        "print('Размерность набора данных после удаления: {}'.format(train_data.shape))"
      ],
      "execution_count": 560,
      "outputs": [
        {
          "output_type": "stream",
          "name": "stdout",
          "text": [
            "Размерность набора данных до удаления: (891, 12)\n",
            "Размерность набора данных после удаления: (891, 10)\n"
          ]
        }
      ]
    },
    {
      "cell_type": "code",
      "metadata": {
        "colab": {
          "base_uri": "https://localhost:8080/"
        },
        "id": "wPGtXm9Q8oba",
        "outputId": "209733f7-b967-4560-e01d-872f66163c5e"
      },
      "source": [
        "train_data['Name'].head(7)"
      ],
      "execution_count": 561,
      "outputs": [
        {
          "output_type": "execute_result",
          "data": {
            "text/plain": [
              "0                              Braund, Mr. Owen Harris\n",
              "1    Cumings, Mrs. John Bradley (Florence Briggs Th...\n",
              "2                               Heikkinen, Miss. Laina\n",
              "3         Futrelle, Mrs. Jacques Heath (Lily May Peel)\n",
              "4                             Allen, Mr. William Henry\n",
              "5                                     Moran, Mr. James\n",
              "6                              McCarthy, Mr. Timothy J\n",
              "Name: Name, dtype: object"
            ]
          },
          "metadata": {},
          "execution_count": 561
        }
      ]
    },
    {
      "cell_type": "code",
      "metadata": {
        "colab": {
          "base_uri": "https://localhost:8080/"
        },
        "id": "XxGP4cPdEt2s",
        "outputId": "7f8328f0-ea47-4b9a-99da-0585200091aa"
      },
      "source": [
        "train_data['Name'].str.extract(' ([A-Za-z]+)\\.', expand=False).unique()"
      ],
      "execution_count": 562,
      "outputs": [
        {
          "output_type": "execute_result",
          "data": {
            "text/plain": [
              "array(['Mr', 'Mrs', 'Miss', 'Master', 'Don', 'Rev', 'Dr', 'Mme', 'Ms',\n",
              "       'Major', 'Lady', 'Sir', 'Mlle', 'Col', 'Capt', 'Countess',\n",
              "       'Jonkheer'], dtype=object)"
            ]
          },
          "metadata": {},
          "execution_count": 562
        }
      ]
    },
    {
      "cell_type": "code",
      "metadata": {
        "id": "jQtMUPYlFfee"
      },
      "source": [
        "train_data['title'] = train_data['Name'].str.extract(' ([A-Za-z]+)\\.', expand=False)\n",
        "test_data['title'] = test_data['Name'].str.extract(' ([A-Za-z]+)\\.', expand=False)"
      ],
      "execution_count": 563,
      "outputs": []
    },
    {
      "cell_type": "code",
      "metadata": {
        "colab": {
          "base_uri": "https://localhost:8080/"
        },
        "id": "glj-BWhWj4Ks",
        "outputId": "afeaeadc-8532-4255-93c7-1d3175d127cc"
      },
      "source": [
        "train_data['title'].value_counts()"
      ],
      "execution_count": 564,
      "outputs": [
        {
          "output_type": "execute_result",
          "data": {
            "text/plain": [
              "Mr          517\n",
              "Miss        182\n",
              "Mrs         125\n",
              "Master       40\n",
              "Dr            7\n",
              "Rev           6\n",
              "Col           2\n",
              "Major         2\n",
              "Mlle          2\n",
              "Jonkheer      1\n",
              "Mme           1\n",
              "Countess      1\n",
              "Lady          1\n",
              "Sir           1\n",
              "Don           1\n",
              "Ms            1\n",
              "Capt          1\n",
              "Name: title, dtype: int64"
            ]
          },
          "metadata": {},
          "execution_count": 564
        }
      ]
    },
    {
      "cell_type": "code",
      "metadata": {
        "id": "yPxU1ti-pfii"
      },
      "source": [
        "for dataset in [train_data, test_data]:\n",
        "    dataset['title'] = dataset['title'].replace(['Lady', 'Countess','Capt', 'Col', \n",
        "                              'Don', 'Major', 'Sir', 'Jonkheer', 'Dona'], 'Rare')\n",
        "\n",
        "    dataset['title'] = dataset['title'].replace('Mlle', 'Miss')\n",
        "    dataset['title'] = dataset['title'].replace('Ms', 'Miss')\n",
        "    dataset['title'] = dataset['title'].replace('Mme', 'Mrs')"
      ],
      "execution_count": 565,
      "outputs": []
    },
    {
      "cell_type": "code",
      "metadata": {
        "colab": {
          "base_uri": "https://localhost:8080/",
          "height": 266
        },
        "id": "kJ5sBmG0t21t",
        "outputId": "c2351475-7e16-45a1-c2f6-ec7a7011433c"
      },
      "source": [
        "train_data[['title', 'Survived']].groupby(['title'], as_index=False).mean().sort_values(by='Survived', ascending=False)"
      ],
      "execution_count": 566,
      "outputs": [
        {
          "output_type": "execute_result",
          "data": {
            "text/html": [
              "<div>\n",
              "<style scoped>\n",
              "    .dataframe tbody tr th:only-of-type {\n",
              "        vertical-align: middle;\n",
              "    }\n",
              "\n",
              "    .dataframe tbody tr th {\n",
              "        vertical-align: top;\n",
              "    }\n",
              "\n",
              "    .dataframe thead th {\n",
              "        text-align: right;\n",
              "    }\n",
              "</style>\n",
              "<table border=\"1\" class=\"dataframe\">\n",
              "  <thead>\n",
              "    <tr style=\"text-align: right;\">\n",
              "      <th></th>\n",
              "      <th>title</th>\n",
              "      <th>Survived</th>\n",
              "    </tr>\n",
              "  </thead>\n",
              "  <tbody>\n",
              "    <tr>\n",
              "      <th>4</th>\n",
              "      <td>Mrs</td>\n",
              "      <td>0.793651</td>\n",
              "    </tr>\n",
              "    <tr>\n",
              "      <th>2</th>\n",
              "      <td>Miss</td>\n",
              "      <td>0.702703</td>\n",
              "    </tr>\n",
              "    <tr>\n",
              "      <th>1</th>\n",
              "      <td>Master</td>\n",
              "      <td>0.575000</td>\n",
              "    </tr>\n",
              "    <tr>\n",
              "      <th>5</th>\n",
              "      <td>Rare</td>\n",
              "      <td>0.500000</td>\n",
              "    </tr>\n",
              "    <tr>\n",
              "      <th>0</th>\n",
              "      <td>Dr</td>\n",
              "      <td>0.428571</td>\n",
              "    </tr>\n",
              "    <tr>\n",
              "      <th>3</th>\n",
              "      <td>Mr</td>\n",
              "      <td>0.156673</td>\n",
              "    </tr>\n",
              "    <tr>\n",
              "      <th>6</th>\n",
              "      <td>Rev</td>\n",
              "      <td>0.000000</td>\n",
              "    </tr>\n",
              "  </tbody>\n",
              "</table>\n",
              "</div>"
            ],
            "text/plain": [
              "    title  Survived\n",
              "4     Mrs  0.793651\n",
              "2    Miss  0.702703\n",
              "1  Master  0.575000\n",
              "5    Rare  0.500000\n",
              "0      Dr  0.428571\n",
              "3      Mr  0.156673\n",
              "6     Rev  0.000000"
            ]
          },
          "metadata": {},
          "execution_count": 566
        }
      ]
    },
    {
      "cell_type": "code",
      "metadata": {
        "id": "iSxVAgkGt3M9"
      },
      "source": [
        "for dataset in [train_data, test_data]:\n",
        "    dataset['title'] = dataset['title'].map({\"Mr\": 1, \"Miss\": 2, \"Mrs\": 3, \"Master\": 4, \"Rare\": 5, \"Dr\": 6, \"Rev\": 7}).fillna(0)"
      ],
      "execution_count": 567,
      "outputs": []
    },
    {
      "cell_type": "code",
      "metadata": {
        "colab": {
          "base_uri": "https://localhost:8080/",
          "height": 204
        },
        "id": "sXUJMT9UHFXi",
        "outputId": "444eddaa-7903-4bdb-c90c-1ec34e1afc9f"
      },
      "source": [
        "train_data.head(5)"
      ],
      "execution_count": 568,
      "outputs": [
        {
          "output_type": "execute_result",
          "data": {
            "text/html": [
              "<div>\n",
              "<style scoped>\n",
              "    .dataframe tbody tr th:only-of-type {\n",
              "        vertical-align: middle;\n",
              "    }\n",
              "\n",
              "    .dataframe tbody tr th {\n",
              "        vertical-align: top;\n",
              "    }\n",
              "\n",
              "    .dataframe thead th {\n",
              "        text-align: right;\n",
              "    }\n",
              "</style>\n",
              "<table border=\"1\" class=\"dataframe\">\n",
              "  <thead>\n",
              "    <tr style=\"text-align: right;\">\n",
              "      <th></th>\n",
              "      <th>PassengerId</th>\n",
              "      <th>Survived</th>\n",
              "      <th>Pclass</th>\n",
              "      <th>Name</th>\n",
              "      <th>Sex</th>\n",
              "      <th>Age</th>\n",
              "      <th>SibSp</th>\n",
              "      <th>Parch</th>\n",
              "      <th>Fare</th>\n",
              "      <th>Embarked</th>\n",
              "      <th>title</th>\n",
              "    </tr>\n",
              "  </thead>\n",
              "  <tbody>\n",
              "    <tr>\n",
              "      <th>0</th>\n",
              "      <td>1</td>\n",
              "      <td>0</td>\n",
              "      <td>3</td>\n",
              "      <td>Braund, Mr. Owen Harris</td>\n",
              "      <td>male</td>\n",
              "      <td>22</td>\n",
              "      <td>1</td>\n",
              "      <td>0</td>\n",
              "      <td>7.2500</td>\n",
              "      <td>S</td>\n",
              "      <td>1</td>\n",
              "    </tr>\n",
              "    <tr>\n",
              "      <th>1</th>\n",
              "      <td>2</td>\n",
              "      <td>1</td>\n",
              "      <td>1</td>\n",
              "      <td>Cumings, Mrs. John Bradley (Florence Briggs Th...</td>\n",
              "      <td>female</td>\n",
              "      <td>38</td>\n",
              "      <td>1</td>\n",
              "      <td>0</td>\n",
              "      <td>71.2833</td>\n",
              "      <td>C</td>\n",
              "      <td>3</td>\n",
              "    </tr>\n",
              "    <tr>\n",
              "      <th>2</th>\n",
              "      <td>3</td>\n",
              "      <td>1</td>\n",
              "      <td>3</td>\n",
              "      <td>Heikkinen, Miss. Laina</td>\n",
              "      <td>female</td>\n",
              "      <td>26</td>\n",
              "      <td>0</td>\n",
              "      <td>0</td>\n",
              "      <td>7.9250</td>\n",
              "      <td>S</td>\n",
              "      <td>2</td>\n",
              "    </tr>\n",
              "    <tr>\n",
              "      <th>3</th>\n",
              "      <td>4</td>\n",
              "      <td>1</td>\n",
              "      <td>1</td>\n",
              "      <td>Futrelle, Mrs. Jacques Heath (Lily May Peel)</td>\n",
              "      <td>female</td>\n",
              "      <td>35</td>\n",
              "      <td>1</td>\n",
              "      <td>0</td>\n",
              "      <td>53.1000</td>\n",
              "      <td>S</td>\n",
              "      <td>3</td>\n",
              "    </tr>\n",
              "    <tr>\n",
              "      <th>4</th>\n",
              "      <td>5</td>\n",
              "      <td>0</td>\n",
              "      <td>3</td>\n",
              "      <td>Allen, Mr. William Henry</td>\n",
              "      <td>male</td>\n",
              "      <td>35</td>\n",
              "      <td>0</td>\n",
              "      <td>0</td>\n",
              "      <td>8.0500</td>\n",
              "      <td>S</td>\n",
              "      <td>1</td>\n",
              "    </tr>\n",
              "  </tbody>\n",
              "</table>\n",
              "</div>"
            ],
            "text/plain": [
              "   PassengerId  Survived  Pclass  ...     Fare Embarked  title\n",
              "0            1         0       3  ...   7.2500        S      1\n",
              "1            2         1       1  ...  71.2833        C      3\n",
              "2            3         1       3  ...   7.9250        S      2\n",
              "3            4         1       1  ...  53.1000        S      3\n",
              "4            5         0       3  ...   8.0500        S      1\n",
              "\n",
              "[5 rows x 11 columns]"
            ]
          },
          "metadata": {},
          "execution_count": 568
        }
      ]
    },
    {
      "cell_type": "code",
      "metadata": {
        "colab": {
          "base_uri": "https://localhost:8080/"
        },
        "id": "Em2MJMpYJGFq",
        "outputId": "0a664f08-68a6-48be-c68c-ebb1836ffc33"
      },
      "source": [
        "print('Размерность набора данных до удаления: {}'.format(train_data.shape))\n",
        "\n",
        "for dataset in [train_data, test_data]:\n",
        "    dataset.drop(columns=['Name'], inplace=True)\n",
        "    \n",
        "print('Размерность набора данных после удаления: {}'.format(train_data.shape))"
      ],
      "execution_count": 569,
      "outputs": [
        {
          "output_type": "stream",
          "name": "stdout",
          "text": [
            "Размерность набора данных до удаления: (891, 11)\n",
            "Размерность набора данных после удаления: (891, 10)\n"
          ]
        }
      ]
    },
    {
      "cell_type": "code",
      "metadata": {
        "colab": {
          "base_uri": "https://localhost:8080/",
          "height": 173
        },
        "id": "pJ1ICaTUK8wg",
        "outputId": "bb605f65-828e-4f93-a406-599e0fcc454d"
      },
      "source": [
        "for dataset in [train_data, test_data]:\n",
        "    dataset['Sex'] = dataset['Sex'].map({'male': 1, 'female': 0})\n",
        "\n",
        "train_data.head(4)"
      ],
      "execution_count": 570,
      "outputs": [
        {
          "output_type": "execute_result",
          "data": {
            "text/html": [
              "<div>\n",
              "<style scoped>\n",
              "    .dataframe tbody tr th:only-of-type {\n",
              "        vertical-align: middle;\n",
              "    }\n",
              "\n",
              "    .dataframe tbody tr th {\n",
              "        vertical-align: top;\n",
              "    }\n",
              "\n",
              "    .dataframe thead th {\n",
              "        text-align: right;\n",
              "    }\n",
              "</style>\n",
              "<table border=\"1\" class=\"dataframe\">\n",
              "  <thead>\n",
              "    <tr style=\"text-align: right;\">\n",
              "      <th></th>\n",
              "      <th>PassengerId</th>\n",
              "      <th>Survived</th>\n",
              "      <th>Pclass</th>\n",
              "      <th>Sex</th>\n",
              "      <th>Age</th>\n",
              "      <th>SibSp</th>\n",
              "      <th>Parch</th>\n",
              "      <th>Fare</th>\n",
              "      <th>Embarked</th>\n",
              "      <th>title</th>\n",
              "    </tr>\n",
              "  </thead>\n",
              "  <tbody>\n",
              "    <tr>\n",
              "      <th>0</th>\n",
              "      <td>1</td>\n",
              "      <td>0</td>\n",
              "      <td>3</td>\n",
              "      <td>1</td>\n",
              "      <td>22</td>\n",
              "      <td>1</td>\n",
              "      <td>0</td>\n",
              "      <td>7.2500</td>\n",
              "      <td>S</td>\n",
              "      <td>1</td>\n",
              "    </tr>\n",
              "    <tr>\n",
              "      <th>1</th>\n",
              "      <td>2</td>\n",
              "      <td>1</td>\n",
              "      <td>1</td>\n",
              "      <td>0</td>\n",
              "      <td>38</td>\n",
              "      <td>1</td>\n",
              "      <td>0</td>\n",
              "      <td>71.2833</td>\n",
              "      <td>C</td>\n",
              "      <td>3</td>\n",
              "    </tr>\n",
              "    <tr>\n",
              "      <th>2</th>\n",
              "      <td>3</td>\n",
              "      <td>1</td>\n",
              "      <td>3</td>\n",
              "      <td>0</td>\n",
              "      <td>26</td>\n",
              "      <td>0</td>\n",
              "      <td>0</td>\n",
              "      <td>7.9250</td>\n",
              "      <td>S</td>\n",
              "      <td>2</td>\n",
              "    </tr>\n",
              "    <tr>\n",
              "      <th>3</th>\n",
              "      <td>4</td>\n",
              "      <td>1</td>\n",
              "      <td>1</td>\n",
              "      <td>0</td>\n",
              "      <td>35</td>\n",
              "      <td>1</td>\n",
              "      <td>0</td>\n",
              "      <td>53.1000</td>\n",
              "      <td>S</td>\n",
              "      <td>3</td>\n",
              "    </tr>\n",
              "  </tbody>\n",
              "</table>\n",
              "</div>"
            ],
            "text/plain": [
              "   PassengerId  Survived  Pclass  Sex  ...  Parch     Fare  Embarked  title\n",
              "0            1         0       3    1  ...      0   7.2500         S      1\n",
              "1            2         1       1    0  ...      0  71.2833         C      3\n",
              "2            3         1       3    0  ...      0   7.9250         S      2\n",
              "3            4         1       1    0  ...      0  53.1000         S      3\n",
              "\n",
              "[4 rows x 10 columns]"
            ]
          },
          "metadata": {},
          "execution_count": 570
        }
      ]
    },
    {
      "cell_type": "code",
      "metadata": {
        "id": "99JXdhYqPTxF"
      },
      "source": [
        "for dataset in [train_data, test_data]:\n",
        "    dataset['FamilySize'] = dataset['SibSp'] + dataset['Parch'] + 1"
      ],
      "execution_count": 571,
      "outputs": []
    },
    {
      "cell_type": "code",
      "metadata": {
        "colab": {
          "base_uri": "https://localhost:8080/",
          "height": 173
        },
        "id": "rVYT9PwTTDyI",
        "outputId": "7e213009-b8e9-443b-f7cf-1e95f77c3669"
      },
      "source": [
        "train_data.head(4)"
      ],
      "execution_count": 572,
      "outputs": [
        {
          "output_type": "execute_result",
          "data": {
            "text/html": [
              "<div>\n",
              "<style scoped>\n",
              "    .dataframe tbody tr th:only-of-type {\n",
              "        vertical-align: middle;\n",
              "    }\n",
              "\n",
              "    .dataframe tbody tr th {\n",
              "        vertical-align: top;\n",
              "    }\n",
              "\n",
              "    .dataframe thead th {\n",
              "        text-align: right;\n",
              "    }\n",
              "</style>\n",
              "<table border=\"1\" class=\"dataframe\">\n",
              "  <thead>\n",
              "    <tr style=\"text-align: right;\">\n",
              "      <th></th>\n",
              "      <th>PassengerId</th>\n",
              "      <th>Survived</th>\n",
              "      <th>Pclass</th>\n",
              "      <th>Sex</th>\n",
              "      <th>Age</th>\n",
              "      <th>SibSp</th>\n",
              "      <th>Parch</th>\n",
              "      <th>Fare</th>\n",
              "      <th>Embarked</th>\n",
              "      <th>title</th>\n",
              "      <th>FamilySize</th>\n",
              "    </tr>\n",
              "  </thead>\n",
              "  <tbody>\n",
              "    <tr>\n",
              "      <th>0</th>\n",
              "      <td>1</td>\n",
              "      <td>0</td>\n",
              "      <td>3</td>\n",
              "      <td>1</td>\n",
              "      <td>22</td>\n",
              "      <td>1</td>\n",
              "      <td>0</td>\n",
              "      <td>7.2500</td>\n",
              "      <td>S</td>\n",
              "      <td>1</td>\n",
              "      <td>2</td>\n",
              "    </tr>\n",
              "    <tr>\n",
              "      <th>1</th>\n",
              "      <td>2</td>\n",
              "      <td>1</td>\n",
              "      <td>1</td>\n",
              "      <td>0</td>\n",
              "      <td>38</td>\n",
              "      <td>1</td>\n",
              "      <td>0</td>\n",
              "      <td>71.2833</td>\n",
              "      <td>C</td>\n",
              "      <td>3</td>\n",
              "      <td>2</td>\n",
              "    </tr>\n",
              "    <tr>\n",
              "      <th>2</th>\n",
              "      <td>3</td>\n",
              "      <td>1</td>\n",
              "      <td>3</td>\n",
              "      <td>0</td>\n",
              "      <td>26</td>\n",
              "      <td>0</td>\n",
              "      <td>0</td>\n",
              "      <td>7.9250</td>\n",
              "      <td>S</td>\n",
              "      <td>2</td>\n",
              "      <td>1</td>\n",
              "    </tr>\n",
              "    <tr>\n",
              "      <th>3</th>\n",
              "      <td>4</td>\n",
              "      <td>1</td>\n",
              "      <td>1</td>\n",
              "      <td>0</td>\n",
              "      <td>35</td>\n",
              "      <td>1</td>\n",
              "      <td>0</td>\n",
              "      <td>53.1000</td>\n",
              "      <td>S</td>\n",
              "      <td>3</td>\n",
              "      <td>2</td>\n",
              "    </tr>\n",
              "  </tbody>\n",
              "</table>\n",
              "</div>"
            ],
            "text/plain": [
              "   PassengerId  Survived  Pclass  Sex  ...     Fare  Embarked  title  FamilySize\n",
              "0            1         0       3    1  ...   7.2500         S      1           2\n",
              "1            2         1       1    0  ...  71.2833         C      3           2\n",
              "2            3         1       3    0  ...   7.9250         S      2           1\n",
              "3            4         1       1    0  ...  53.1000         S      3           2\n",
              "\n",
              "[4 rows x 11 columns]"
            ]
          },
          "metadata": {},
          "execution_count": 572
        }
      ]
    },
    {
      "cell_type": "code",
      "metadata": {
        "id": "189gbJj9TEp7"
      },
      "source": [
        "for dataset in [train_data, test_data]:\n",
        "    dataset['Alone'] = 0\n",
        "    dataset.loc[dataset['FamilySize'] == 1, 'Alone'] = 1"
      ],
      "execution_count": 573,
      "outputs": []
    },
    {
      "cell_type": "code",
      "metadata": {
        "colab": {
          "base_uri": "https://localhost:8080/",
          "height": 204
        },
        "id": "7xtovFd8UjwV",
        "outputId": "0d75e9e0-1d53-41dc-a363-672661772843"
      },
      "source": [
        "train_data.head(5)"
      ],
      "execution_count": 574,
      "outputs": [
        {
          "output_type": "execute_result",
          "data": {
            "text/html": [
              "<div>\n",
              "<style scoped>\n",
              "    .dataframe tbody tr th:only-of-type {\n",
              "        vertical-align: middle;\n",
              "    }\n",
              "\n",
              "    .dataframe tbody tr th {\n",
              "        vertical-align: top;\n",
              "    }\n",
              "\n",
              "    .dataframe thead th {\n",
              "        text-align: right;\n",
              "    }\n",
              "</style>\n",
              "<table border=\"1\" class=\"dataframe\">\n",
              "  <thead>\n",
              "    <tr style=\"text-align: right;\">\n",
              "      <th></th>\n",
              "      <th>PassengerId</th>\n",
              "      <th>Survived</th>\n",
              "      <th>Pclass</th>\n",
              "      <th>Sex</th>\n",
              "      <th>Age</th>\n",
              "      <th>SibSp</th>\n",
              "      <th>Parch</th>\n",
              "      <th>Fare</th>\n",
              "      <th>Embarked</th>\n",
              "      <th>title</th>\n",
              "      <th>FamilySize</th>\n",
              "      <th>Alone</th>\n",
              "    </tr>\n",
              "  </thead>\n",
              "  <tbody>\n",
              "    <tr>\n",
              "      <th>0</th>\n",
              "      <td>1</td>\n",
              "      <td>0</td>\n",
              "      <td>3</td>\n",
              "      <td>1</td>\n",
              "      <td>22</td>\n",
              "      <td>1</td>\n",
              "      <td>0</td>\n",
              "      <td>7.2500</td>\n",
              "      <td>S</td>\n",
              "      <td>1</td>\n",
              "      <td>2</td>\n",
              "      <td>0</td>\n",
              "    </tr>\n",
              "    <tr>\n",
              "      <th>1</th>\n",
              "      <td>2</td>\n",
              "      <td>1</td>\n",
              "      <td>1</td>\n",
              "      <td>0</td>\n",
              "      <td>38</td>\n",
              "      <td>1</td>\n",
              "      <td>0</td>\n",
              "      <td>71.2833</td>\n",
              "      <td>C</td>\n",
              "      <td>3</td>\n",
              "      <td>2</td>\n",
              "      <td>0</td>\n",
              "    </tr>\n",
              "    <tr>\n",
              "      <th>2</th>\n",
              "      <td>3</td>\n",
              "      <td>1</td>\n",
              "      <td>3</td>\n",
              "      <td>0</td>\n",
              "      <td>26</td>\n",
              "      <td>0</td>\n",
              "      <td>0</td>\n",
              "      <td>7.9250</td>\n",
              "      <td>S</td>\n",
              "      <td>2</td>\n",
              "      <td>1</td>\n",
              "      <td>1</td>\n",
              "    </tr>\n",
              "    <tr>\n",
              "      <th>3</th>\n",
              "      <td>4</td>\n",
              "      <td>1</td>\n",
              "      <td>1</td>\n",
              "      <td>0</td>\n",
              "      <td>35</td>\n",
              "      <td>1</td>\n",
              "      <td>0</td>\n",
              "      <td>53.1000</td>\n",
              "      <td>S</td>\n",
              "      <td>3</td>\n",
              "      <td>2</td>\n",
              "      <td>0</td>\n",
              "    </tr>\n",
              "    <tr>\n",
              "      <th>4</th>\n",
              "      <td>5</td>\n",
              "      <td>0</td>\n",
              "      <td>3</td>\n",
              "      <td>1</td>\n",
              "      <td>35</td>\n",
              "      <td>0</td>\n",
              "      <td>0</td>\n",
              "      <td>8.0500</td>\n",
              "      <td>S</td>\n",
              "      <td>1</td>\n",
              "      <td>1</td>\n",
              "      <td>1</td>\n",
              "    </tr>\n",
              "  </tbody>\n",
              "</table>\n",
              "</div>"
            ],
            "text/plain": [
              "   PassengerId  Survived  Pclass  Sex  ...  Embarked  title  FamilySize  Alone\n",
              "0            1         0       3    1  ...         S      1           2      0\n",
              "1            2         1       1    0  ...         C      3           2      0\n",
              "2            3         1       3    0  ...         S      2           1      1\n",
              "3            4         1       1    0  ...         S      3           2      0\n",
              "4            5         0       3    1  ...         S      1           1      1\n",
              "\n",
              "[5 rows x 12 columns]"
            ]
          },
          "metadata": {},
          "execution_count": 574
        }
      ]
    },
    {
      "cell_type": "code",
      "metadata": {
        "id": "AIRuu-5VUkdU"
      },
      "source": [
        "train_data = train_data.drop(['Parch', 'SibSp'], axis=1)\n",
        "test_data = test_data.drop(['Parch', 'SibSp'], axis=1)"
      ],
      "execution_count": 575,
      "outputs": []
    },
    {
      "cell_type": "code",
      "metadata": {
        "colab": {
          "base_uri": "https://localhost:8080/"
        },
        "id": "cMD5-BzGVAru",
        "outputId": "b61d1084-afee-402d-fb8f-631cff352635"
      },
      "source": [
        "print('Размерность набора данных после удаления: {}'.format(train_data.shape))"
      ],
      "execution_count": 576,
      "outputs": [
        {
          "output_type": "stream",
          "name": "stdout",
          "text": [
            "Размерность набора данных после удаления: (891, 10)\n"
          ]
        }
      ]
    },
    {
      "cell_type": "code",
      "metadata": {
        "colab": {
          "base_uri": "https://localhost:8080/"
        },
        "id": "0ZCjrqNNVDD5",
        "outputId": "55bc4a29-cf75-4b9e-9f25-b38971cd4630"
      },
      "source": [
        "print(train_data['Embarked'].value_counts())"
      ],
      "execution_count": 577,
      "outputs": [
        {
          "output_type": "stream",
          "name": "stdout",
          "text": [
            "S    644\n",
            "C    168\n",
            "Q     77\n",
            "Name: Embarked, dtype: int64\n"
          ]
        }
      ]
    },
    {
      "cell_type": "code",
      "metadata": {
        "id": "J-uv1z7QXMqA"
      },
      "source": [
        "for dataset in [train_data, test_data]:\n",
        "    dataset['Embarked'] = dataset['Embarked'].fillna('S')"
      ],
      "execution_count": 578,
      "outputs": []
    },
    {
      "cell_type": "code",
      "metadata": {
        "id": "B5fUieZ0af5s"
      },
      "source": [
        "for dataset in [train_data, test_data]:\n",
        "    dataset['Embarked'] = dataset['Embarked'].map({'S': 0, 'C': 1, 'Q': 2}).astype('int')"
      ],
      "execution_count": 579,
      "outputs": []
    },
    {
      "cell_type": "code",
      "metadata": {
        "colab": {
          "base_uri": "https://localhost:8080/",
          "height": 235
        },
        "id": "JeePEQ8FarJ2",
        "outputId": "5599f51a-ce3d-4648-af50-967dc9127263"
      },
      "source": [
        "train_data.head(6)"
      ],
      "execution_count": 580,
      "outputs": [
        {
          "output_type": "execute_result",
          "data": {
            "text/html": [
              "<div>\n",
              "<style scoped>\n",
              "    .dataframe tbody tr th:only-of-type {\n",
              "        vertical-align: middle;\n",
              "    }\n",
              "\n",
              "    .dataframe tbody tr th {\n",
              "        vertical-align: top;\n",
              "    }\n",
              "\n",
              "    .dataframe thead th {\n",
              "        text-align: right;\n",
              "    }\n",
              "</style>\n",
              "<table border=\"1\" class=\"dataframe\">\n",
              "  <thead>\n",
              "    <tr style=\"text-align: right;\">\n",
              "      <th></th>\n",
              "      <th>PassengerId</th>\n",
              "      <th>Survived</th>\n",
              "      <th>Pclass</th>\n",
              "      <th>Sex</th>\n",
              "      <th>Age</th>\n",
              "      <th>Fare</th>\n",
              "      <th>Embarked</th>\n",
              "      <th>title</th>\n",
              "      <th>FamilySize</th>\n",
              "      <th>Alone</th>\n",
              "    </tr>\n",
              "  </thead>\n",
              "  <tbody>\n",
              "    <tr>\n",
              "      <th>0</th>\n",
              "      <td>1</td>\n",
              "      <td>0</td>\n",
              "      <td>3</td>\n",
              "      <td>1</td>\n",
              "      <td>22</td>\n",
              "      <td>7.2500</td>\n",
              "      <td>0</td>\n",
              "      <td>1</td>\n",
              "      <td>2</td>\n",
              "      <td>0</td>\n",
              "    </tr>\n",
              "    <tr>\n",
              "      <th>1</th>\n",
              "      <td>2</td>\n",
              "      <td>1</td>\n",
              "      <td>1</td>\n",
              "      <td>0</td>\n",
              "      <td>38</td>\n",
              "      <td>71.2833</td>\n",
              "      <td>1</td>\n",
              "      <td>3</td>\n",
              "      <td>2</td>\n",
              "      <td>0</td>\n",
              "    </tr>\n",
              "    <tr>\n",
              "      <th>2</th>\n",
              "      <td>3</td>\n",
              "      <td>1</td>\n",
              "      <td>3</td>\n",
              "      <td>0</td>\n",
              "      <td>26</td>\n",
              "      <td>7.9250</td>\n",
              "      <td>0</td>\n",
              "      <td>2</td>\n",
              "      <td>1</td>\n",
              "      <td>1</td>\n",
              "    </tr>\n",
              "    <tr>\n",
              "      <th>3</th>\n",
              "      <td>4</td>\n",
              "      <td>1</td>\n",
              "      <td>1</td>\n",
              "      <td>0</td>\n",
              "      <td>35</td>\n",
              "      <td>53.1000</td>\n",
              "      <td>0</td>\n",
              "      <td>3</td>\n",
              "      <td>2</td>\n",
              "      <td>0</td>\n",
              "    </tr>\n",
              "    <tr>\n",
              "      <th>4</th>\n",
              "      <td>5</td>\n",
              "      <td>0</td>\n",
              "      <td>3</td>\n",
              "      <td>1</td>\n",
              "      <td>35</td>\n",
              "      <td>8.0500</td>\n",
              "      <td>0</td>\n",
              "      <td>1</td>\n",
              "      <td>1</td>\n",
              "      <td>1</td>\n",
              "    </tr>\n",
              "    <tr>\n",
              "      <th>5</th>\n",
              "      <td>6</td>\n",
              "      <td>0</td>\n",
              "      <td>3</td>\n",
              "      <td>1</td>\n",
              "      <td>31</td>\n",
              "      <td>8.4583</td>\n",
              "      <td>2</td>\n",
              "      <td>1</td>\n",
              "      <td>1</td>\n",
              "      <td>1</td>\n",
              "    </tr>\n",
              "  </tbody>\n",
              "</table>\n",
              "</div>"
            ],
            "text/plain": [
              "   PassengerId  Survived  Pclass  Sex  ...  Embarked  title  FamilySize  Alone\n",
              "0            1         0       3    1  ...         0      1           2      0\n",
              "1            2         1       1    0  ...         1      3           2      0\n",
              "2            3         1       3    0  ...         0      2           1      1\n",
              "3            4         1       1    0  ...         0      3           2      0\n",
              "4            5         0       3    1  ...         0      1           1      1\n",
              "5            6         0       3    1  ...         2      1           1      1\n",
              "\n",
              "[6 rows x 10 columns]"
            ]
          },
          "metadata": {},
          "execution_count": 580
        }
      ]
    },
    {
      "cell_type": "code",
      "metadata": {
        "colab": {
          "base_uri": "https://localhost:8080/",
          "height": 595
        },
        "id": "FDbFPPkka0TT",
        "outputId": "a9717acd-e6e7-4f62-c14b-51c30ee06c9b"
      },
      "source": [
        "plt.figure(figsize = (15, 10))\n",
        "\n",
        "sns.heatmap(train_data.corr(), annot=True)\n",
        "plt.show()"
      ],
      "execution_count": 581,
      "outputs": [
        {
          "output_type": "display_data",
          "data": {
            "image/png": "[encoded data removed]",
            "text/plain": [
              "<Figure size 1080x720 with 2 Axes>"
            ]
          },
          "metadata": {
            "needs_background": "light"
          }
        }
      ]
    },
    {
      "cell_type": "markdown",
      "metadata": {
        "id": "3HaqyD3feP2O"
      },
      "source": [
        "# Модели\n"
      ]
    },
    {
      "cell_type": "code",
      "metadata": {
        "id": "_rVdFHIqa_cc"
      },
      "source": [
        "from sklearn.linear_model import LogisticRegression\n",
        "from sklearn.model_selection import train_test_split\n",
        "from sklearn.metrics import accuracy_score"
      ],
      "execution_count": 582,
      "outputs": []
    },
    {
      "cell_type": "code",
      "metadata": {
        "id": "-rsVPtJXeT0i"
      },
      "source": [
        "y = train_data['Survived']\n",
        "X = train_data.drop(columns=['Survived'])\n",
        "X_test = test_data"
      ],
      "execution_count": 583,
      "outputs": []
    },
    {
      "cell_type": "code",
      "metadata": {
        "id": "rH1B23NmeUdQ"
      },
      "source": [
        "X_train, X_val, y_train, y_val = train_test_split(X, y, test_size=0.25)"
      ],
      "execution_count": 584,
      "outputs": []
    },
    {
      "cell_type": "code",
      "metadata": {
        "colab": {
          "base_uri": "https://localhost:8080/"
        },
        "id": "BOXiXDXCfc67",
        "outputId": "b00a7342-925e-4d2c-bfc6-9a66f8ac494b"
      },
      "source": [
        "print('Тренировочная выборка:', X_train.shape)\n",
        "print('Валидационная выборка:', X_val.shape)"
      ],
      "execution_count": 585,
      "outputs": [
        {
          "output_type": "stream",
          "name": "stdout",
          "text": [
            "Тренировочная выборка: (668, 9)\n",
            "Валидационная выборка: (223, 9)\n"
          ]
        }
      ]
    },
    {
      "cell_type": "code",
      "metadata": {
        "colab": {
          "base_uri": "https://localhost:8080/"
        },
        "id": "IYzZeImefqHR",
        "outputId": "400c0dc3-c6ed-436f-9d0a-2ad9d328f4ff"
      },
      "source": [
        "logreg = LogisticRegression()\n",
        "logreg.fit(X_train, y_train)\n",
        "\n",
        "pred = logreg.predict(X_val)\n",
        "accuracy_score(y_val, pred)"
      ],
      "execution_count": 586,
      "outputs": [
        {
          "output_type": "execute_result",
          "data": {
            "text/plain": [
              "0.7937219730941704"
            ]
          },
          "metadata": {},
          "execution_count": 586
        }
      ]
    },
    {
      "cell_type": "code",
      "metadata": {
        "id": "KvTXKZSwfywa"
      },
      "source": [
        "from sklearn.tree import DecisionTreeClassifier"
      ],
      "execution_count": 587,
      "outputs": []
    },
    {
      "cell_type": "code",
      "metadata": {
        "colab": {
          "base_uri": "https://localhost:8080/"
        },
        "id": "tF9Lnq4LgRqx",
        "outputId": "873a5079-df85-475b-e7d6-358aa33203a0"
      },
      "source": [
        "clf_tree = DecisionTreeClassifier()\n",
        "clf_tree.fit(X_train, y_train)\n",
        "\n",
        "pred = clf_tree.predict(X_val)\n",
        "accuracy_score(y_val, pred)"
      ],
      "execution_count": 588,
      "outputs": [
        {
          "output_type": "execute_result",
          "data": {
            "text/plain": [
              "0.7937219730941704"
            ]
          },
          "metadata": {},
          "execution_count": 588
        }
      ]
    },
    {
      "cell_type": "code",
      "metadata": {
        "id": "j-FSwVrXgmdu"
      },
      "source": [
        "from sklearn.ensemble import RandomForestClassifier"
      ],
      "execution_count": 589,
      "outputs": []
    },
    {
      "cell_type": "code",
      "metadata": {
        "colab": {
          "base_uri": "https://localhost:8080/"
        },
        "id": "YdCZqvF24FOu",
        "outputId": "3f6d6cfd-4248-4029-f88a-4a7ce342b51f"
      },
      "source": [
        "clf_tree = RandomForestClassifier(n_estimators=200, max_depth=7)\n",
        "clf_tree.fit(X_train, y_train)\n",
        "\n",
        "pred = clf_tree.predict(X_val)\n",
        "accuracy_score(y_val, pred)"
      ],
      "execution_count": 590,
      "outputs": [
        {
          "output_type": "execute_result",
          "data": {
            "text/plain": [
              "0.8430493273542601"
            ]
          },
          "metadata": {},
          "execution_count": 590
        }
      ]
    },
    {
      "cell_type": "code",
      "metadata": {
        "colab": {
          "base_uri": "https://localhost:8080/"
        },
        "id": "2fP1A75bg8HG",
        "outputId": "cb830013-4219-4c0e-b9e2-b83b045fe931"
      },
      "source": [
        "rnd_frst = RandomForestClassifier(n_estimators=200, max_depth=7)\n",
        "rnd_frst.fit(X, y)\n",
        "\n",
        "pred = rnd_frst.predict(X_test)\n",
        "output = pd.DataFrame({'PassengerId': test_data['PassengerId'], 'Survived': pred})\n",
        "output.to_csv('submission.csv', index=False)\n",
        "print(\"Your submission was successfully saved!\")"
      ],
      "execution_count": 591,
      "outputs": [
        {
          "output_type": "stream",
          "name": "stdout",
          "text": [
            "Your submission was successfully saved!\n"
          ]
        }
      ]
    },
    {
      "cell_type": "code",
      "metadata": {
        "id": "doHQhT4JqpI9",
        "colab": {
          "base_uri": "https://localhost:8080/"
        },
        "outputId": "d5fbe14b-8e22-4df1-b67b-8f4ac706bb52"
      },
      "source": [
        "!kaggle competitions submit -c titanic -f submission.csv -m \"RandomForestClassifier\""
      ],
      "execution_count": 592,
      "outputs": [
        {
          "output_type": "stream",
          "name": "stdout",
          "text": [
            "Warning: Looks like you're using an outdated API Version, please consider updating (server 1.5.12 / client 1.5.4)\n",
            "100% 2.77k/2.77k [00:02<00:00, 1.20kB/s]\n",
            "Successfully submitted to Titanic - Machine Learning from Disaster"
          ]
        }
      ]
    },
    {
      "cell_type": "code",
      "metadata": {
        "id": "OSo2CUsM9XJo"
      },
      "source": [
        ""
      ],
      "execution_count": 592,
      "outputs": []
    }
  ]
}